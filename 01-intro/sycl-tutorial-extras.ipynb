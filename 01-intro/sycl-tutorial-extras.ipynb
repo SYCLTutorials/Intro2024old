{
 "cells": [
  {
   "cell_type": "markdown",
   "id": "e0210f07-cfef-4191-9ee4-d66351d82eff",
   "metadata": {},
   "source": [
    "\n",
    "# SYCL Introduction Extras\n"
   ]
  },
  {
   "cell_type": "markdown",
   "id": "88728553-ebfb-4a25-9c30-7e4f87722966",
   "metadata": {},
   "source": [
    "\n",
    "# Profiling SYCL applications on DevCloud\n",
    "First steps how how to run profiling can be found here [Intel® VTune™ Profiler](https://www.intel.com/content/www/us/en/docs/vtune-profiler/cookbook/2023-0/using-vtune-server-with-vs-code-intel-devcloud.html#FINISH).\n",
    "\n",
    "I outline the steps I took to simplify matters for others looking to do the same. *Here we go!*\n"
   ]
  },
  {
   "cell_type": "markdown",
   "id": "ae99642d-f1bf-4626-b217-d72c318f936f",
   "metadata": {},
   "source": [
    " # oneMKL\n",
    "oneMKL, or oneAPI Math Kernel Library, is a comprehensive and highly optimized library developed by Intel. It offers a wide range of mathematical functions designed to maximize performance on various computing architectures, including CPUs, GPUs, and other accelerators.\n",
    "\n",
    "You can view a description of **oneMKL*** and the provided excercise and example here [oneMKL](https://github.com/codeplaysoftware/syclacademy/tree/main/Code_Exercises/OneMKL_gemm)\n",
    "\n",
    "Navigate into the `syclacademy/Code_Exercises/OneMKL_gemm/` and you can view the excercise ` source_onemkl_buffer_gemm.cpp` and `source_onemkl_usm_gemm.cpp` one for *buffers* and *USM*.\n",
    "\n",
    "I explain the solution in the following if you want to work on the solution yourself you can do now before continuing. "
   ]
  },
  {
   "cell_type": "markdown",
   "id": "df3f22e1-c7ee-4a47-955b-4341566da498",
   "metadata": {},
   "source": [
    "### Matrix product using buffers\n",
    "\n",
    "1. Initialize random matrices:\n",
    "\n",
    "```cpp\n",
    " // A(M, N)\n",
    "  for (size_t i = 0; i < M; i++)\n",
    "    for (size_t j = 0; j < N; j++)\n",
    "      A[i * N + j] = dis(gen);\n",
    "  // B(N, P)\n",
    "  for (size_t i = 0; i < N; i++)\n",
    "    for (size_t j = 0; j < P; j++)\n",
    "      B[i * P + j] = dis(gen);\n",
    "\n",
    "  // Resultant matrix: C_serial = A*B\n",
    "  for (size_t i = 0; i < M; i++) {\n",
    "    for (size_t j = 0; j < P; j++) {\n",
    "      for (size_t d = 0; d < N; d++) {\n",
    "        C_host[i * P + j] += A[i * N + d] * B[d * P + j];\n",
    "      }\n",
    "    }\n",
    "  }\n",
    "```\n",
    "\n",
    "2. Declare Queue and device:\n",
    "\n",
    "```cpp\n",
    " // Create a SYCL in-order queue targetting GPU device\n",
    "  sycl::queue Q{sycl::gpu_selector_v, sycl::property::queue::in_order{}};\n",
    "  // Prints some basic info related to the hardware\n",
    "  print_device_info(Q);\n",
    "```\n",
    "\n",
    "3. Declare buffers:\n",
    "\n",
    "```cpp\n",
    "// TODO: Allocate memory on device, (using sycl::malloc_device APIs)\n",
    "  // Creating 1D buffers for matrices which are bound to host memory array\n",
    "  sycl::buffer<T, 1> a{A.data(), sycl::range<1>{M * N}};\n",
    "  sycl::buffer<T, 1> b{B.data(), sycl::range<1>{N * P}};\n",
    "  sycl::buffer<T, 1> c{C_host.data(), sycl::range<1>{M * P}};\n",
    "```\n",
    "\n",
    "4.  Use **oneMKL GEMM** library for the matrix multiplication  \n",
    "\n",
    "```cpp\n",
    " // TODO: Use oneMKL GEMM USM API\n",
    "  oneapi::mkl::transpose transA = oneapi::mkl::transpose::nontrans;\n",
    "  oneapi::mkl::transpose transB = oneapi::mkl::transpose::nontrans;\n",
    "  oneapi::mkl::blas::column_major::gemm(Q, transA, transB, n, m, k, alpha, b,\n",
    "                                        ldB, a, ldA, beta, c, ldC);\n",
    "  Q.wait();\n",
    "  sycl::host_accessor C_device{c};\n",
    "```\n",
    "\n",
    "These libabries like **GMM** are great for specific vendors who provide efficent and optimized functionality for specific harderware that we can use using oneMLK. \n",
    "\n",
    "> We dont have to do the heavy lifting ourself we let **oneMKL*** do it for us.\n",
    " "
   ]
  },
  {
   "cell_type": "markdown",
   "id": "07d7f713-802b-44a9-a57c-b88995b7db9b",
   "metadata": {},
   "source": [
    "# TODO\n",
    "1. check devices \n",
    "2. Review performance \n",
    "3. Time output check\n"
   ]
  },
  {
   "cell_type": "code",
   "execution_count": null,
   "id": "634b230f-517d-466d-85f0-41fc2a973989",
   "metadata": {},
   "outputs": [],
   "source": []
  }
 ],
 "metadata": {
  "kernelspec": {
   "display_name": "Python 3 (ipykernel)",
   "language": "python",
   "name": "python3"
  },
  "language_info": {
   "codemirror_mode": {
    "name": "ipython",
    "version": 3
   },
   "file_extension": ".py",
   "mimetype": "text/x-python",
   "name": "python",
   "nbconvert_exporter": "python",
   "pygments_lexer": "ipython3",
   "version": "3.9.19"
  }
 },
 "nbformat": 4,
 "nbformat_minor": 5
}
