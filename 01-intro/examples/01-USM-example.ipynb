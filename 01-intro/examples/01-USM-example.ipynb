{
 "cells": [
  {
   "cell_type": "markdown",
   "id": "e4881ae6-4ab8-4798-b6c7-30154898b3b8",
   "metadata": {},
   "source": [
    "## Unified Share Memory example"
   ]
  },
  {
   "cell_type": "code",
   "execution_count": null,
   "id": "0",
   "metadata": {},
   "outputs": [],
   "source": [
    "%%writefile compute.cpp\n",
    "#include <sycl/sycl.hpp>\n",
    "#include <iostream>\n",
    "\n",
    "int main(){\n",
    "    //# select device for offload\n",
    "    sycl::queue q(sycl::gpu_selector_v);\n",
    "    std::cout << \"Offload Device: \" << q.get_device().get_info<sycl::info::device::name>() << \"\\n\";\n",
    "\n",
    "    //# initialize some data array\n",
    "    const int N = 16;\n",
    "    auto data = sycl::malloc_shared<float>(N, q);\n",
    "    for(int i=0;i<N;i++) data[i] = i;\n",
    "\n",
    "    //# computation on GPU\n",
    "    q.single_task([=](){\n",
    "        for(int i=0;i<N;i++) data[i] = data[i] * 5;\n",
    "    }).wait();\n",
    "\n",
    "    //# print output\n",
    "    for(int i=0;i<N;i++) std::cout << data[i] << \"\\n\"; \n",
    "}"
   ]
  },
  {
   "cell_type": "code",
   "execution_count": null,
   "id": "fcfcbb24-ea6e-43db-9dc0-e8b4f61482af",
   "metadata": {},
   "outputs": [],
   "source": [
    "%%writefile ./run-dot.sh\n",
    "#!/bin/bash \n",
    "source /opt/intel/oneapi/setvars.sh > /dev/null 2>&1\n",
    "icpx -fsycl compute.cpp\n",
    "if [ $? -eq 0 ]; then ./a.out; fi"
   ]
  },
  {
   "cell_type": "code",
   "execution_count": null,
   "id": "1",
   "metadata": {},
   "outputs": [],
   "source": [
    "!chmod u+x ./run-dot.sh &&./run-dot.sh"
   ]
  },
  {
   "cell_type": "code",
   "execution_count": null,
   "id": "f328e381-b63c-4a8c-984d-25f7354c8efe",
   "metadata": {},
   "outputs": [],
   "source": []
  }
 ],
 "metadata": {
  "kernelspec": {
   "display_name": "Python 3 (ipykernel)",
   "language": "python",
   "name": "python3"
  },
  "language_info": {
   "codemirror_mode": {
    "name": "ipython",
    "version": 3
   },
   "file_extension": ".py",
   "mimetype": "text/x-python",
   "name": "python",
   "nbconvert_exporter": "python",
   "pygments_lexer": "ipython3",
   "version": "3.9.19"
  }
 },
 "nbformat": 4,
 "nbformat_minor": 5
}
