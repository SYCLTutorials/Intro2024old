{
 "cells": [
  {
   "cell_type": "code",
   "execution_count": null,
   "id": "0",
   "metadata": {},
   "outputs": [],
   "source": [
    "%%writefile compute.cpp\n",
    "\n",
    "#include <sycl/sycl.hpp>\n",
    "#include <iostream>\n",
    "\n",
    "int main(){\n",
    "    //# select device for offload\n",
    "    sycl::queue q(sycl::gpu_selector_v);\n",
    "    std::cout << \"Offload Device: \" << q.get_device().get_info<sycl::info::device::name>() << \"\\n\";\n",
    "\n",
    "    //# initialize some data array\n",
    "    const int N = 16;\n",
    "    auto data = sycl::malloc_shared<float>(N, q);\n",
    "    for(int i=0;i<N;i++) data[i] = i;\n",
    "\n",
    "    //# computation on GPU\n",
    "    q.single_task([=](){\n",
    "        for(int i=0;i<N;i++) data[i] = data[i] * 5;\n",
    "    }).wait();\n",
    "\n",
    "    //# print output\n",
    "    for(int i=0;i<N;i++) std::cout << data[i] << \"\\n\"; \n",
    "}"
   ]
  },
  {
   "cell_type": "code",
   "execution_count": null,
   "id": "1",
   "metadata": {},
   "outputs": [],
   "source": [
    "!sh ./run-dot.sh"
   ]
  }
 ],
 "metadata": {
  "kernelspec": {
   "display_name": "Python 3 (ipykernel)",
   "language": "python",
   "name": "python3"
  },
  "language_info": {
   "codemirror_mode": {
    "name": "ipython",
    "version": 3
   },
   "file_extension": ".py",
   "mimetype": "text/x-python",
   "name": "python",
   "nbconvert_exporter": "python",
   "pygments_lexer": "ipython3",
   "version": "3.11.5"
  }
 },
 "nbformat": 4,
 "nbformat_minor": 5
}
