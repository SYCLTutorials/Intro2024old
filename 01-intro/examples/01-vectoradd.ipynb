{
 "cells": [
  {
   "cell_type": "markdown",
   "id": "5e21158e-9144-4e11-9f18-7fb26264c521",
   "metadata": {},
   "source": [
    "# SYCL devices"
   ]
  },
  {
   "cell_type": "code",
   "execution_count": null,
   "id": "30be3988-dea6-4f95-b6bc-8057e9d00d05",
   "metadata": {},
   "outputs": [],
   "source": []
  },
  {
   "cell_type": "code",
   "execution_count": null,
   "id": "62204293-4120-4488-a3ac-cf3a288629bc",
   "metadata": {},
   "outputs": [],
   "source": [
    "%%writefile compute.cpp\n",
    "#include <sycl/sycl.hpp>\n",
    "#include <vector>\n",
    "\n",
    "int main(int argc, char **argv) {\n",
    "  const int N = 2;\n",
    "\n",
    "  std::vector<int> vectorA(N, 1);  // Vector A filled with 1s\n",
    "  std::vector<int> vectorB(N, 2);  // Vector B filled with 2s\n",
    "  std::vector<int> vectorC;        // Vector C initialized with no specific values\n",
    "  vectorC.resize(vectorA.size());\n",
    "\n",
    "  auto myQueue = sycl::queue{sycl::gpu_selector_v};\n",
    "  std::cout << \"Running on \"\n",
    "              << myQueue.get_device().get_info<sycl::info::device::name>()\n",
    "              << \"\\n\";\n",
    "\n",
    "  {\n",
    "      auto bufA = sycl::buffer{vectorA.data(), sycl::range{N}};\n",
    "      auto bufB = sycl::buffer{vectorB.data(), sycl::range{N}};\n",
    "      auto bufC = sycl::buffer{vectorC.data(), sycl::range{N}};\n",
    "    \n",
    "      myQueue.submit([&](sycl::handler &cgh) {\n",
    "\n",
    "      sycl::accessor accA { bufA, cgh, sycl::read_only};\n",
    "      sycl::accessor accB { bufB, cgh, sycl::read_only };\n",
    "      sycl::accessor accC { bufC, cgh, sycl::write_only, sycl::no_init };\n",
    "\n",
    "      cgh.parallel_for(N, [=](auto i) { accC[i] = accA[i] + accB[i]; });\n",
    "\n",
    "    });\n",
    "  }\n",
    "\n",
    "  // Print out the result of vector add\n",
    "  int indices[]{0, 1, 2, (static_cast<int>(vectorA.size()) - 1)};\n",
    "  constexpr size_t indices_size = sizeof(indices) / sizeof(int);\n",
    "  for (int i = 0; i < indices_size; i++) {\n",
    "    int j = indices[i];\n",
    "    if (i == indices_size - 1) std::cout << \"...\\n\";\n",
    "    std::cout << \"[\" << j << \"]: \" << vectorA[j] << \" + \" << vectorB[j] << \" = \"\n",
    "              << vectorC[j] << \"\\n\";\n",
    "\n",
    "  }\n",
    "\n",
    "  return 0;\n",
    "}\n"
   ]
  },
  {
   "cell_type": "code",
   "execution_count": null,
   "id": "cf5d7cc4-d3a8-485e-8e5a-06a945064362",
   "metadata": {},
   "outputs": [],
   "source": [
    "%%writefile ./run-sycl.sh\n",
    "\n",
    "#!/bin/bash -x\n",
    "source /opt/intel/oneapi/setvars.sh > /dev/null 2>&1\n",
    "icpx -fsycl compute.cpp\n",
    "if [ $? -eq 0 ]; then ./a.out; fi"
   ]
  },
  {
   "cell_type": "code",
   "execution_count": null,
   "id": "c397d703-185e-4d20-a732-9472298e9344",
   "metadata": {},
   "outputs": [],
   "source": [
    "!chmod u+x ./run-sycl.sh &&./run-sycl.sh"
   ]
  },
  {
   "cell_type": "code",
   "execution_count": null,
   "id": "6ffb4895-569e-4040-9a7d-5793253f54ae",
   "metadata": {},
   "outputs": [],
   "source": []
  },
  {
   "cell_type": "code",
   "execution_count": null,
   "id": "9a8183ae-9bb6-45dd-a259-74ce21086029",
   "metadata": {},
   "outputs": [],
   "source": []
  }
 ],
 "metadata": {
  "kernelspec": {
   "display_name": "Python 3 (ipykernel)",
   "language": "python",
   "name": "python3"
  },
  "language_info": {
   "codemirror_mode": {
    "name": "ipython",
    "version": 3
   },
   "file_extension": ".py",
   "mimetype": "text/x-python",
   "name": "python",
   "nbconvert_exporter": "python",
   "pygments_lexer": "ipython3",
   "version": "3.9.19"
  }
 },
 "nbformat": 4,
 "nbformat_minor": 5
}
