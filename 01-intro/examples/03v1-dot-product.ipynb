{
 "cells": [
  {
   "cell_type": "markdown",
   "id": "5e21158e-9144-4e11-9f18-7fb26264c521",
   "metadata": {},
   "source": [
    "# SYCL devices"
   ]
  },
  {
   "cell_type": "markdown",
   "id": "71f5b7f3-b691-4468-bd5c-b3f4e7e1e3e9",
   "metadata": {},
   "source": [
    "\n",
    "4. **Reduction to Sum Results**\n",
    "    - reduction operation is performed to sum up the results from all players.\n",
    "    - Data is read from the buffer, and a reduction operation is set up using `sycl::plus` to sum up all the values.\n",
    "    - A parallel for loop runs the reduction operation across all elements, combining them into the final sum.\n",
    "\n",
    "```cpp\n",
    "q.submit([&](auto &h) {\n",
    "    const auto c{c_buf.get_access<sycl::access_mode::read>(h)};\n",
    "    const auto sum_reduction{sycl::reduction(s_buf, h, sycl::plus<>())};\n",
    "\n",
    "    h.parallel_for(sycl::range<1>{number_of_players}, sum_reduction, [=](const auto index, auto &sum) {\n",
    "        sum.combine(c[index]);\n",
    "    });\n",
    "});\n",
    "```"
   ]
  },
  {
   "cell_type": "code",
   "execution_count": 12,
   "id": "62204293-4120-4488-a3ac-cf3a288629bc",
   "metadata": {},
   "outputs": [
    {
     "name": "stdout",
     "output_type": "stream",
     "text": [
      "Overwriting compute.cpp\n"
     ]
    }
   ],
   "source": [
    "%%writefile compute.cpp\n",
    "#include <sycl/sycl.hpp>\n",
    "#include <vector>\n",
    "\n",
    "int main(int argc, char **argv) {\n",
    "    const auto N = 2;\n",
    "    \n",
    "    std::vector<int> vectorA(N, 1);  // Vector A filled with 1s\n",
    "    std::vector<int> vectorB(N, 2);  // Vector B filled with 2s\n",
    "    int result = 0; // Result of dot product initialized to zero\n",
    "    \n",
    "    auto myQueue = sycl::queue{sycl::cpu_selector_v};\n",
    "    std::cout << \"Running on \"\n",
    "              << myQueue.get_device().get_info<sycl::info::device::name>()\n",
    "              << \"\\n\";\n",
    "    {\n",
    "        auto bufA = sycl::buffer{vectorA.data(), sycl::range{N}};\n",
    "        auto bufB = sycl::buffer{vectorB.data(), sycl::range{N}};\n",
    "        auto bufResult = sycl::buffer{&result, sycl::range{1}};\n",
    "    \n",
    "        myQueue.submit([&](sycl::handler &cgh) {\n",
    "            auto accA = bufA.get_access<sycl::access::mode::read>(cgh);\n",
    "            auto accB = bufB.get_access<sycl::access::mode::read>(cgh);\n",
    "            \n",
    "            //               _            _   _                     _\n",
    "            //  _ __ ___  __| |_   _  ___| |_(_) ___  _ __    _ __ | |_   _ ___\n",
    "            // | '__/ _ \\/ _` | | | |/ __| __| |/ _ \\| '_ \\  | '_ \\| | | | / __|\n",
    "            // | | |  __/ (_| | |_| | (__| |_| | (_) | | | | | |_) | | |_| \\__ \\\n",
    "            // |_|  \\___|\\__,_|\\__,_|\\___|\\__|_|\\___/|_| |_| | .__/|_|\\__,_|___/\n",
    "            //                                               |_|\n",
    "            \n",
    "            auto accResult = sycl::reduction(bufResult, cgh, sycl::plus<>());\n",
    "            \n",
    "            cgh.parallel_for(sycl::range<1> { N }, accResult,\n",
    "                       [=](sycl::id<1> idx, auto& sum ) {\n",
    "                sum += accA[idx] * accB[idx];\n",
    "            });\n",
    "        });\n",
    "    }\n",
    "      std::cout << \"Dot product completed. Result: \" << result\n",
    "              << std::endl;\n",
    "  return 0;\n",
    "}\n"
   ]
  },
  {
   "cell_type": "code",
   "execution_count": 13,
   "id": "cf5d7cc4-d3a8-485e-8e5a-06a945064362",
   "metadata": {},
   "outputs": [
    {
     "name": "stdout",
     "output_type": "stream",
     "text": [
      "Overwriting ./run-sycl.sh\n"
     ]
    }
   ],
   "source": [
    "%%writefile ./run-sycl.sh\n",
    "\n",
    "#!/bin/bash -x\n",
    "source /opt/intel/oneapi/setvars.sh > /dev/null 2>&1\n",
    "icpx -fsycl compute.cpp\n",
    "if [ $? -eq 0 ]; then ./a.out; fi"
   ]
  },
  {
   "cell_type": "code",
   "execution_count": 14,
   "id": "c397d703-185e-4d20-a732-9472298e9344",
   "metadata": {},
   "outputs": [
    {
     "name": "stdout",
     "output_type": "stream",
     "text": [
      "Running on 12th Gen Intel(R) Core(TM) i7-1280P\n",
      "Dot product completed. Result: 4\n"
     ]
    }
   ],
   "source": [
    "!chmod u+x ./run-sycl.sh &&./run-sycl.sh"
   ]
  },
  {
   "cell_type": "code",
   "execution_count": null,
   "id": "6ffb4895-569e-4040-9a7d-5793253f54ae",
   "metadata": {},
   "outputs": [],
   "source": []
  }
 ],
 "metadata": {
  "kernelspec": {
   "display_name": "Python 3 (ipykernel)",
   "language": "python",
   "name": "python3"
  },
  "language_info": {
   "codemirror_mode": {
    "name": "ipython",
    "version": 3
   },
   "file_extension": ".py",
   "mimetype": "text/x-python",
   "name": "python",
   "nbconvert_exporter": "python",
   "pygments_lexer": "ipython3",
   "version": "3.9.19"
  }
 },
 "nbformat": 4,
 "nbformat_minor": 5
}
