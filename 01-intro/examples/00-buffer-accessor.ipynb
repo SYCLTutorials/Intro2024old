{
 "cells": [
  {
   "cell_type": "markdown",
   "id": "5e21158e-9144-4e11-9f18-7fb26264c521",
   "metadata": {},
   "source": [
    "# SYCL devices"
   ]
  },
  {
   "cell_type": "markdown",
   "id": "ebfc1f81-5b09-4a91-834c-a1d3835ff4a1",
   "metadata": {},
   "source": [
    "\n",
    "## Buffer and Accesors\n"
   ]
  },
  {
   "cell_type": "code",
   "execution_count": 101,
   "id": "3e3bf3dc-5d57-42be-93f5-f3039f01aae7",
   "metadata": {},
   "outputs": [
    {
     "name": "stdout",
     "output_type": "stream",
     "text": [
      "Overwriting compute.cpp\n"
     ]
    }
   ],
   "source": [
    "%%writefile compute.cpp\n",
    "#include <sycl/sycl.hpp>\n",
    "#include <vector>\n",
    "#include <iostream>\n",
    "\n",
    "int main() {\n",
    "\n",
    "    sycl::queue myQueue;                         // The queue, Q, is the object that\n",
    "                                                 // submits the task to a device.\n",
    "    int const N = 10;\n",
    "    sycl::buffer<int> bufA{ sycl::range{N} };    // The buffer, A, is the memory used to\n",
    "                                                 // transfer data between host and device.\n",
    "    const int p = 4;\n",
    "    std::cout << \"Running on \"\n",
    "                  << myQueue.get_device().get_info<sycl::info::device::name>()\n",
    "                  << \"\\n\";\n",
    "\n",
    "    myQueue.submit([&](sycl::handler& cgh) {      // The handler, h, is the object that contains\n",
    "                                                  // the single_task function to be used.\n",
    "\n",
    "        sycl::accessor accA(bufA, cgh);          // The accessor, A_acc, is the object that\n",
    "                                                  // efficiently accesses the buffer elements.\n",
    "\n",
    "            cgh.parallel_for(N, [=](auto i) {\n",
    "                accA[i] = i * p; \n",
    "                });\n",
    "\n",
    "        });\n",
    "\n",
    "    sycl::host_accessor result(bufA);              // host_accessor is the object that allows\n",
    "                                                   // the host to access the buffer memory.\n",
    "\n",
    "    for (int i = 0; i < N ; i++)                   // Print output\n",
    "        std::cout << result[i] << \" \"; std::cout << \"\\n\";\n",
    "    return 0;\n",
    "\n",
    "}"
   ]
  },
  {
   "cell_type": "code",
   "execution_count": 99,
   "id": "bd19a58d-ecde-4149-b954-5b9da37f6cc3",
   "metadata": {},
   "outputs": [
    {
     "name": "stdout",
     "output_type": "stream",
     "text": [
      "Overwriting ./run-sycl.sh\n"
     ]
    }
   ],
   "source": [
    "%%writefile ./run-sycl.sh\n",
    "#!/bin/bash\n",
    "source /opt/intel/oneapi/setvars.sh > /dev/null 2>&1\n",
    "icpx -fsycl compute.cpp\n",
    "if [ $? -eq 0 ]; then ./a.out; fi"
   ]
  },
  {
   "cell_type": "code",
   "execution_count": 100,
   "id": "908855ac-0fd7-479d-942a-2f1f7b3f4cb2",
   "metadata": {},
   "outputs": [
    {
     "name": "stdout",
     "output_type": "stream",
     "text": [
      "Running on Intel(R) Graphics [0x46a6]\n",
      "0 4 8 12 16 20 24 28 32 36 \n"
     ]
    }
   ],
   "source": [
    "!chmod u+x ./run-sycl.sh &&./run-sycl.sh"
   ]
  },
  {
   "cell_type": "markdown",
   "id": "bdf1f1e6-61e3-47be-a631-122696aaef93",
   "metadata": {},
   "source": [
    "## Example 2:"
   ]
  },
  {
   "cell_type": "code",
   "execution_count": 98,
   "id": "62204293-4120-4488-a3ac-cf3a288629bc",
   "metadata": {},
   "outputs": [
    {
     "name": "stdout",
     "output_type": "stream",
     "text": [
      "Overwriting compute.cpp\n"
     ]
    }
   ],
   "source": [
    "%%writefile compute.cpp\n",
    "#include <sycl/sycl.hpp>\n",
    "#include <vector>\n",
    "#include <iostream>\n",
    "\n",
    "int main(int argc, char **argv) {\n",
    "    \n",
    "    const int N = 10;\n",
    "    std::vector<int> vectorA(N);  // Vector A filled with 1s\n",
    "    const int p = 4;\n",
    "    \n",
    "    {\n",
    "        auto myQueue = sycl::queue{sycl::gpu_selector_v};\n",
    "        std::cout << \"Running on \"\n",
    "                  << myQueue.get_device().get_info<sycl::info::device::name>()\n",
    "                  << \"\\n\";\n",
    "\n",
    "    \n",
    "        auto bufA = sycl::buffer<int>{ vectorA.data(), vectorA.size()};\n",
    "        //sycl::buffer<int> bufA {vectorA.data(),vectorA.size() };\n",
    "        \n",
    "        myQueue.submit([&](sycl::handler &cgh) {\n",
    "        \n",
    "            sycl::accessor accA { bufA, cgh, sycl::write_only, sycl::no_init};\n",
    "            \n",
    "            cgh.parallel_for(N, [=](auto i) {\n",
    "                accA[i] = i * p; \n",
    "                });\n",
    "        \n",
    "            });\n",
    "        myQueue.wait();\n",
    "        \n",
    "    }\n",
    "\n",
    "    for (int i = 0; i < N; i++)  // Print output\n",
    "        std::cout << vectorA[i] << \" \"; std::cout << \"\\n\";\n",
    "\n",
    "    return 0;\n",
    "}\n"
   ]
  },
  {
   "cell_type": "code",
   "execution_count": 102,
   "id": "cf5d7cc4-d3a8-485e-8e5a-06a945064362",
   "metadata": {},
   "outputs": [
    {
     "name": "stdout",
     "output_type": "stream",
     "text": [
      "Overwriting ./run-sycl.sh\n"
     ]
    }
   ],
   "source": [
    "%%writefile ./run-sycl.sh\n",
    "#!/bin/bash\n",
    "source /opt/intel/oneapi/setvars.sh > /dev/null 2>&1\n",
    "icpx -fsycl compute.cpp\n",
    "if [ $? -eq 0 ]; then ./a.out; fi"
   ]
  },
  {
   "cell_type": "code",
   "execution_count": 103,
   "id": "c397d703-185e-4d20-a732-9472298e9344",
   "metadata": {},
   "outputs": [
    {
     "name": "stdout",
     "output_type": "stream",
     "text": [
      "Running on Intel(R) Graphics [0x46a6]\n",
      "0 4 8 12 16 20 24 28 32 36 \n"
     ]
    }
   ],
   "source": [
    "!chmod u+x ./run-sycl.sh &&./run-sycl.sh"
   ]
  },
  {
   "cell_type": "code",
   "execution_count": null,
   "id": "6ffb4895-569e-4040-9a7d-5793253f54ae",
   "metadata": {},
   "outputs": [],
   "source": []
  },
  {
   "cell_type": "code",
   "execution_count": null,
   "id": "9a8183ae-9bb6-45dd-a259-74ce21086029",
   "metadata": {},
   "outputs": [],
   "source": []
  }
 ],
 "metadata": {
  "kernelspec": {
   "display_name": "Python 3 (ipykernel)",
   "language": "python",
   "name": "python3"
  },
  "language_info": {
   "codemirror_mode": {
    "name": "ipython",
    "version": 3
   },
   "file_extension": ".py",
   "mimetype": "text/x-python",
   "name": "python",
   "nbconvert_exporter": "python",
   "pygments_lexer": "ipython3",
   "version": "3.9.19"
  }
 },
 "nbformat": 4,
 "nbformat_minor": 5
}
