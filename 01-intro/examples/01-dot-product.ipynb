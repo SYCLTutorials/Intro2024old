{
 "cells": [
  {
   "cell_type": "markdown",
   "id": "5e21158e-9144-4e11-9f18-7fb26264c521",
   "metadata": {},
   "source": [
    "# SYCL devices"
   ]
  },
  {
   "cell_type": "code",
   "execution_count": null,
   "id": "62204293-4120-4488-a3ac-cf3a288629bc",
   "metadata": {},
   "outputs": [],
   "source": []
  },
  {
   "cell_type": "code",
   "execution_count": null,
   "id": "4b6156c4-a564-4fae-974a-dc4323c2c350",
   "metadata": {},
   "outputs": [],
   "source": [
    "%%writefile compute.cpp\n",
    "#include <iostream>\n",
    "#include <sycl/sycl.hpp>\n",
    "#include <vector>\n",
    "\n",
    "class vector_dot_product_cpu;\n",
    "//using namespace sycl;\n",
    "int main() {\n",
    "    const int N = 2;              // Length of the vectors\n",
    "    std::vector<int> vectorA(N, 1);  // Vector A filled with 1s\n",
    "    std::vector<int> vectorB(N, 2);  // Vector B filled with 2s\n",
    "    int result = 0;  // Result of dot product initialized to zero\n",
    "\n",
    "    sycl::queue cpuQueue(sycl::default_selector_v);\n",
    "    std::cout << \"Running on \"\n",
    "              << cpuQueue.get_device().get_info<sycl::info::device::name>()\n",
    "              << std::endl;\n",
    "\n",
    "   // auto cpuQueue = sycl::queue{sycl::gpu_selector_v};\n",
    "    \n",
    "    auto bufA = sycl::buffer{vectorA.data(), sycl::range{N}};\n",
    "    auto bufB = sycl::buffer{vectorB.data(), sycl::range{N}};\n",
    "    auto bufResult = sycl::buffer{&result, sycl::range{1}};\n",
    "\n",
    "    cpuQueue.submit([&](sycl::handler& cgh) {\n",
    "            auto accA = bufA.get_access<sycl::access::mode::read>(cgh);\n",
    "            auto accB = bufB.get_access<sycl::access::mode::read>(cgh);\n",
    "            auto accResult =\n",
    "                bufResult.get_access<sycl::access::mode::read_write>(\n",
    "                    cgh);\n",
    "\n",
    "            cgh.parallel_for<vector_dot_product_cpu>(\n",
    "                sycl::range{N}, [=](sycl::id<1> idx) {\n",
    "                    //int i = idx[0];\n",
    "                    accResult[0] += accA[idx] * accB[idx];\n",
    "                });\n",
    "        })\n",
    "        .wait();\n",
    "\n",
    "    std::cout << \"Dot product completed on CPU. Result: \" << result\n",
    "              << std::endl;\n",
    "    return 0;\n",
    "}\n"
   ]
  },
  {
   "cell_type": "code",
   "execution_count": null,
   "id": "3b6b07da-7c3a-4826-b4e9-7ab163eecc9a",
   "metadata": {},
   "outputs": [],
   "source": [
    "%%writefile ./run-sycl.sh\n",
    "\n",
    "#!/bin/bash \n",
    "source /opt/intel/oneapi/setvars.sh > /dev/null 2>&1\n",
    "icpx -fsycl compute.cpp\n",
    "if [ $? -eq 0 ]; then ./a.out; fi"
   ]
  },
  {
   "cell_type": "code",
   "execution_count": null,
   "id": "2cf3d4ff-d4f7-4ea3-b009-35cafb9279b3",
   "metadata": {},
   "outputs": [],
   "source": [
    "!chmod u+x ./run-sycl.sh &&./run-sycl.sh"
   ]
  },
  {
   "cell_type": "code",
   "execution_count": null,
   "id": "64aab2ba-19c6-45b6-aa40-a6c563c54a5e",
   "metadata": {},
   "outputs": [],
   "source": [
    "%%writefile compute.cpp\n",
    "#include <iostream>\n",
    "#include <sycl/sycl.hpp>\n",
    "#include <vector>\n",
    "\n",
    "//class vector_dot_product_gpu;\n",
    "\n",
    "int main() {\n",
    "    const int N = 2;              // Length of the vectors\n",
    "    std::vector<int> vectorA(N, 1);  // Vector A filled with 1s\n",
    "    std::vector<int> vectorB(N, 2);  // Vector B filled with 2s\n",
    "    int result = 0;  // Result of dot product initialized to zero\n",
    "\n",
    "    auto gpuQueue = sycl::queue{sycl::cpu_selector_v};\n",
    "\n",
    "    auto bufA = sycl::buffer{vectorA.data(), sycl::range{N}};\n",
    "    auto bufB = sycl::buffer{vectorB.data(), sycl::range{N}};\n",
    "    auto bufResult = sycl::buffer{&result, sycl::range{1}};\n",
    "\n",
    "    \n",
    "\n",
    "    gpuQueue.submit([&](sycl::handler& cgh) {\n",
    "            auto accA = bufA.get_access<sycl::access::mode::read>(cgh);\n",
    "            auto accB = bufB.get_access<sycl::access::mode::read>(cgh);\n",
    "            auto accResult = bufResult.get_access<sycl::access::mode::read_write>(cgh);\n",
    "            sycl::stream sout(10240, 2560, cgh);\n",
    "            \n",
    "\n",
    "            cgh.parallel_for<class vector_dot_product_gpu>(\n",
    "                sycl::range{N}, [=](sycl::id<1> idx) {\n",
    "                int i = idx[0];\n",
    "                sout << \"id global \" << idx[0] << sycl::endl;\n",
    "                sout << \"product = \" << accA[i] * accB[i] << sycl::endl;\n",
    "                    \n",
    "                //accResult[0] = 99;\n",
    "                accResult[0] += accA[i] * accB[i];\n",
    "                sout << \"dot = \" << accResult[0] << sycl::endl;\n",
    "                });\n",
    "        })\n",
    "        .wait();\n",
    "\n",
    "    std::cout << \"Dot product completed successfully on GPU. Result: \" << result\n",
    "              << std::endl;\n",
    "    return 0;\n",
    "}\n"
   ]
  },
  {
   "cell_type": "code",
   "execution_count": null,
   "id": "db130ebb-0388-4d29-8d54-3d903024ef0f",
   "metadata": {},
   "outputs": [],
   "source": [
    "%%writefile ./run-sycl.sh\n",
    "\n",
    "#!/bin/bash -x\n",
    "source /opt/intel/oneapi/setvars.sh > /dev/null 2>&1\n",
    "icpx -fsycl compute.cpp\n",
    "if [ $? -eq 0 ]; then ./a.out; fi"
   ]
  },
  {
   "cell_type": "code",
   "execution_count": null,
   "id": "58651813-65a8-452b-849e-e7e9cfc8d008",
   "metadata": {},
   "outputs": [],
   "source": [
    "!chmod u+x ./run-sycl.sh &&./run-sycl.sh"
   ]
  },
  {
   "cell_type": "code",
   "execution_count": null,
   "id": "a6df4e7b-b076-4817-9340-bb38e45e82a1",
   "metadata": {},
   "outputs": [],
   "source": []
  },
  {
   "cell_type": "code",
   "execution_count": null,
   "id": "6ffb4895-569e-4040-9a7d-5793253f54ae",
   "metadata": {},
   "outputs": [],
   "source": []
  }
 ],
 "metadata": {
  "kernelspec": {
   "display_name": "Python 3 (ipykernel)",
   "language": "python",
   "name": "python3"
  },
  "language_info": {
   "codemirror_mode": {
    "name": "ipython",
    "version": 3
   },
   "file_extension": ".py",
   "mimetype": "text/x-python",
   "name": "python",
   "nbconvert_exporter": "python",
   "pygments_lexer": "ipython3",
   "version": "3.9.19"
  }
 },
 "nbformat": 4,
 "nbformat_minor": 5
}
