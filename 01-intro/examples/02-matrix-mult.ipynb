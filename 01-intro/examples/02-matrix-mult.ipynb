{
 "cells": [
  {
   "cell_type": "markdown",
   "id": "5e21158e-9144-4e11-9f18-7fb26264c521",
   "metadata": {},
   "source": [
    "# SYCL devices"
   ]
  },
  {
   "cell_type": "code",
   "execution_count": 275,
   "id": "c708ec62-4d01-486a-aab2-e3b8c50c0451",
   "metadata": {},
   "outputs": [
    {
     "name": "stdout",
     "output_type": "stream",
     "text": [
      "Overwriting compute.cpp\n"
     ]
    }
   ],
   "source": [
    "%%writefile compute.cpp\n",
    "#include <CL/sycl.hpp>\n",
    "#include <iostream>\n",
    "#include <vector>\n",
    "\n",
    "int main() {\n",
    "        // Example matrices\n",
    "    int M = 2;\n",
    "    int N = 2;\n",
    "    int K = 2;\n",
    "\n",
    "    std::vector<int> A(M * K), B(K * N), C(M * N);\n",
    "\n",
    "//    for (int i = 0; i < M * K; ++i) A[i] = static_cast<float>(i % 10);\n",
    "//    for (int i = 0; i < K * N; ++i) B[i] = static_cast<float>((i + 1) % 10);\n",
    "\n",
    "    for (int i = 0; i < M * K; ++i) A[i] = i % 10;\n",
    "    for (int i = 0; i < K * N; ++i) B[i] = (i + 1) % 10;\n",
    "\n",
    "\n",
    "    auto myQueue = sycl::queue{sycl::cpu_selector_v};\n",
    "    std::cout << \"Running on \"\n",
    "              << myQueue.get_device().get_info<sycl::info::device::name>()\n",
    "              << \"\\n\";\n",
    "    \n",
    "    {\n",
    "        auto bufA = sycl::buffer{A.data(), sycl::range<2>(M, K)};\n",
    "        auto bufB = sycl::buffer{B.data(), sycl::range<2>(K, N)};\n",
    "        auto bufC = sycl::buffer{C.data(), sycl::range<2>(M, N)};\n",
    "\n",
    "        // Kernel to perform matrix-matrix multiplication\n",
    "        myQueue.submit([&](sycl::handler& cgh) {\n",
    "            sycl::accessor accA{bufA, cgh, sycl::read_only};\n",
    "            sycl::accessor accB{bufB, cgh, sycl::read_only};\n",
    "            sycl::accessor accC{bufC, cgh, sycl::write_only};\n",
    "\n",
    "       //                                  _        _\n",
    "       //                  _ __ ___   __ _| |_ _ __(_)_  __\n",
    "       //                 | '_ ` _ \\ / _` | __| '__| \\ \\/ /\n",
    "       //                 | | | | | | (_| | |_| |  | |>  <\n",
    "       //                 |_| |_| |_|\\__,_|\\__|_|  |_/_/\\_\\\n",
    "       // \n",
    "       //                  _ _   _       _ _           _   _\n",
    "       //  _ __ ___  _   _| | |_(_)_ __ | (_) ___ __ _| |_(_) ___  _ __\n",
    "       // | '_ ` _ \\| | | | | __| | '_ \\| | |/ __/ _` | __| |/ _ \\| '_ \\\n",
    "       // | | | | | | |_| | | |_| | |_) | | | (_| (_| | |_| | (_) | | | |\n",
    "       // |_| |_| |_|\\__,_|_|\\__|_| .__/|_|_|\\___\\__,_|\\__|_|\\___/|_| |_|\n",
    "\n",
    "\n",
    "        cgh.parallel_for(sycl::range<2>(M, N), [=](sycl::id<2> idx) {\n",
    "            int row = idx[0];\n",
    "            int col = idx[1];\n",
    "            int sum = 0;\n",
    "    \n",
    "            for (int k = 0; k < K; ++k) {\n",
    "                sum += accA[row][k] * accB[k][col];\n",
    "                }\n",
    "\n",
    "            accC[row][col] = sum;\n",
    "\n",
    "            });\n",
    "        });\n",
    "        myQueue.wait();\n",
    "    }\n",
    "\n",
    "    std::cout << \"Part of the resulting matrix C:\" << std::endl;\n",
    "    for (int i = 0; i < M; ++i) {\n",
    "        for (int j = 0; j < N; ++j) {\n",
    "            std::cout << C[i * N + j] << \" \";\n",
    "        }\n",
    "        std::cout << std::endl;\n",
    "    }\n",
    "\n",
    "    return 0;\n",
    "}"
   ]
  },
  {
   "cell_type": "code",
   "execution_count": 276,
   "id": "cf5d7cc4-d3a8-485e-8e5a-06a945064362",
   "metadata": {},
   "outputs": [
    {
     "name": "stdout",
     "output_type": "stream",
     "text": [
      "Overwriting ./run-sycl.sh\n"
     ]
    }
   ],
   "source": [
    "%%writefile ./run-sycl.sh\n",
    "#!/bin/bash -x\n",
    "source /opt/intel/oneapi/setvars.sh > /dev/null 2>&1\n",
    "icpx -fsycl compute.cpp\n",
    "if [ $? -eq 0 ]; then ./a.out; fi"
   ]
  },
  {
   "cell_type": "code",
   "execution_count": 277,
   "id": "c397d703-185e-4d20-a732-9472298e9344",
   "metadata": {},
   "outputs": [
    {
     "name": "stdout",
     "output_type": "stream",
     "text": [
      "Running on 12th Gen Intel(R) Core(TM) i7-1280P\n",
      "Part of the resulting matrix C:\n",
      "3 4 \n",
      "11 16 \n"
     ]
    }
   ],
   "source": [
    "!chmod u+x ./run-sycl.sh &&./run-sycl.sh"
   ]
  },
  {
   "cell_type": "code",
   "execution_count": null,
   "id": "78e493ec-c4bc-40a6-a526-a4af9decf30e",
   "metadata": {},
   "outputs": [],
   "source": []
  }
 ],
 "metadata": {
  "kernelspec": {
   "display_name": "Python 3 (ipykernel)",
   "language": "python",
   "name": "python3"
  },
  "language_info": {
   "codemirror_mode": {
    "name": "ipython",
    "version": 3
   },
   "file_extension": ".py",
   "mimetype": "text/x-python",
   "name": "python",
   "nbconvert_exporter": "python",
   "pygments_lexer": "ipython3",
   "version": "3.9.19"
  }
 },
 "nbformat": 4,
 "nbformat_minor": 5
}
