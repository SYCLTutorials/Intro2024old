{
 "cells": [
  {
   "cell_type": "markdown",
   "id": "5e21158e-9144-4e11-9f18-7fb26264c521",
   "metadata": {},
   "source": [
    "# SYCL devices"
   ]
  },
  {
   "cell_type": "markdown",
   "id": "ac1901ec-7984-47f0-9fb5-7f9f400f8cf6",
   "metadata": {},
   "source": [
    "---\n",
    "\n",
    "## Exercise: Matrix Multiplication\n",
    "\n",
    "---\n",
    "\n",
    "In this exercise, you will learn how to perform matrix multiplication using SYCL, managing data with buffers and accessors, and executing code on a GPU. You will set up the matrices, select the appropriate device, manage data using SYCL buffers, and implement a parallel kernel to perform the multiplication."
   ]
  },
  {
   "cell_type": "markdown",
   "id": "5b377ccf-93bc-4534-9fbd-29f338d27048",
   "metadata": {},
   "source": [
    "\n",
    "---\n",
    "\n",
    "### 1.) Matrix Setup\n",
    "\n",
    "Initialize matrices for the operation. You will multiply two matrices and store the result in a third matrix. Here, we'll use `std::array` to store the matrix data.\n",
    "\n",
    "```cpp\n",
    "const int N = 3; // Size of the matrix NxN\n",
    "std::array<int, N * N> matrixA = {1, 2, 3, 4, 5, 6, 7, 8, 9};\n",
    "std::array<int, N * N> matrixB = {9, 8, 7, 6, 5, 4, 3, 2, 1};\n",
    "std::array<int, N * N> matrixR = {0}; // Result matrix initialized to zero\n",
    "```\n",
    "\n",
    "### 2.) Device Selection and Queue Setup\n",
    "\n",
    "Create a queue to manage the device operations. Start with a GPU queue, and handle the device selection.\n",
    "\n",
    "```cpp\n",
    "auto gpu_selector = sycl::gpu_selector_v;\n",
    "try {\n",
    "    sycl::queue gpuQueue{gpu_selector};\n",
    "} catch (sycl::exception const& e) {\n",
    "    std::cerr << \"Failed to execute on GPU. Error: \" << e.what() << '\\n';\n",
    "}\n",
    "```\n",
    "\n",
    "### 3.) Data Management with Buffers and Accessors\n",
    "\n",
    "#### **TODO:**\n",
    "- Construct buffers for matrices A, B, and R using `sycl::buffer` and the `data()` method from `std::array`.\n",
    "- Create accessors within a command group to manage read and write operations on the buffers.\n",
    "\n",
    "### 4.) Kernel Implementation\n",
    "\n",
    "#### **TODO:**\n",
    "- Write a kernel function using `parallel_for` to perform matrix multiplication. This function should:\n",
    "  - Utilize a 2D index to access elements correctly.\n",
    "  - Compute the product for a single element of the result matrix by iterating over one dimension.\n",
    "  \n",
    "Example kernel implementation:\n",
    "```cpp\n",
    "cgh.parallel_for<matrix_multiply_gpu>(sycl::range<2>{N, N}, [=](sycl::id<2> idx) {\n",
    "    int row = idx[0];\n",
    "    int col = idx[1];\n",
    "    for (int k = 0; k < N; k++) {\n",
    "        accR[row][col] += accA[row * N + k] * accB[k * N + col];\n",
    "    }\n",
    "});\n",
    "```\n",
    "\n",
    "### 5.) Execution and Synchronization\n",
    "\n",
    "Ensure your SYCL operations are correctly synchronized and the results are written back to the host memory.\n",
    "\n",
    "```cpp\n",
    "gpuQueue.submit([&](sycl::handler& cgh) {\n",
    "    // Your kernel launch code here\n",
    "}).wait();\n",
    "```\n",
    "\n",
    "### 6.) Result Verification\n",
    "\n",
    "Print the result matrix to verify that the multiplication was performed correctly.\n",
    "\n",
    "### 7.) Test on Development Platforms\n",
    "\n",
    "Test your SYCL program on different platforms. Below are examples for compiling and running on Intel DevCloud and Polaris.\n",
    "\n",
    "#### **Test on Intel DevCloud**\n",
    "\n",
    "```bash\n",
    "icpx -fsycl source_file.cpp -o output_file -std=c++17 -lOpenCL\n",
    "```\n",
    "\n",
    "#### **Test on Polaris**\n",
    "\n",
    "```bash\n",
    "clang++ -fsycl -fsycl-targets=nvptx64-nvidia-cuda -std=c++17 source_file.cpp -o output_file -lOpenCL\n",
    "```\n",
    "\n",
    "---\n"
   ]
  },
  {
   "cell_type": "code",
   "execution_count": 275,
   "id": "c708ec62-4d01-486a-aab2-e3b8c50c0451",
   "metadata": {},
   "outputs": [
    {
     "name": "stdout",
     "output_type": "stream",
     "text": [
      "Overwriting compute.cpp\n"
     ]
    }
   ],
   "source": [
    "%%writefile compute.cpp\n",
    "#include <CL/sycl.hpp>\n",
    "#include <iostream>\n",
    "#include <vector>\n",
    "\n",
    "int main() {\n",
    "        // Example matrices\n",
    "    int M = 2;\n",
    "    int N = 2;\n",
    "    int K = 2;\n",
    "\n",
    "    std::vector<int> A(M * K), B(K * N), C(M * N);\n",
    "\n",
    "//    for (int i = 0; i < M * K; ++i) A[i] = static_cast<float>(i % 10);\n",
    "//    for (int i = 0; i < K * N; ++i) B[i] = static_cast<float>((i + 1) % 10);\n",
    "\n",
    "    for (int i = 0; i < M * K; ++i) A[i] = i % 10;\n",
    "    for (int i = 0; i < K * N; ++i) B[i] = (i + 1) % 10;\n",
    "\n",
    "\n",
    "    auto myQueue = sycl::queue{sycl::cpu_selector_v};\n",
    "    std::cout << \"Running on \"\n",
    "              << myQueue.get_device().get_info<sycl::info::device::name>()\n",
    "              << \"\\n\";\n",
    "    \n",
    "    {\n",
    "        auto bufA = sycl::buffer{A.data(), sycl::range<2>(M, K)};\n",
    "        auto bufB = sycl::buffer{B.data(), sycl::range<2>(K, N)};\n",
    "        auto bufC = sycl::buffer{C.data(), sycl::range<2>(M, N)};\n",
    "\n",
    "        // Kernel to perform matrix-matrix multiplication\n",
    "        myQueue.submit([&](sycl::handler& cgh) {\n",
    "            sycl::accessor accA{bufA, cgh, sycl::read_only};\n",
    "            sycl::accessor accB{bufB, cgh, sycl::read_only};\n",
    "            // UNCOMMENT  THIS sycl::accessor accC{bufC, cgh, sycl::write_only};\n",
    "\n",
    "       //                                  _        _\n",
    "       //                  _ __ ___   __ _| |_ _ __(_)_  __\n",
    "       //                 | '_ ` _ \\ / _` | __| '__| \\ \\/ /\n",
    "       //                 | | | | | | (_| | |_| |  | |>  <\n",
    "       //                 |_| |_| |_|\\__,_|\\__|_|  |_/_/\\_\\\n",
    "       // \n",
    "       //                  _ _   _       _ _           _   _\n",
    "       //  _ __ ___  _   _| | |_(_)_ __ | (_) ___ __ _| |_(_) ___  _ __\n",
    "       // | '_ ` _ \\| | | | | __| | '_ \\| | |/ __/ _` | __| |/ _ \\| '_ \\\n",
    "       // | | | | | | |_| | | |_| | |_) | | | (_| (_| | |_| | (_) | | | |\n",
    "       // |_| |_| |_|\\__,_|_|\\__|_| .__/|_|_|\\___\\__,_|\\__|_|\\___/|_| |_|\n",
    "\n",
    "\n",
    "        cgh.parallel_for(sycl::range<2>(M, N), [=](sycl::id<2> idx) {\n",
    "            int row = idx[0];\n",
    "            int col = idx[1];\n",
    "            int sum = 0;\n",
    "    \n",
    "            for (int k = 0; k < K; ++k) {\n",
    "                sum += accA[row][k] * accB[k][col];\n",
    "                }\n",
    "\n",
    "            accC[row][col] = sum;\n",
    "\n",
    "            });\n",
    "        });\n",
    "        myQueue.wait();\n",
    "    }\n",
    "\n",
    "    std::cout << \"Part of the resulting matrix C:\" << std::endl;\n",
    "    for (int i = 0; i < M; ++i) {\n",
    "        for (int j = 0; j < N; ++j) {\n",
    "            std::cout << C[i * N + j] << \" \";\n",
    "        }\n",
    "        std::cout << std::endl;\n",
    "    }\n",
    "\n",
    "    return 0;\n",
    "}"
   ]
  },
  {
   "cell_type": "code",
   "execution_count": 276,
   "id": "cf5d7cc4-d3a8-485e-8e5a-06a945064362",
   "metadata": {},
   "outputs": [
    {
     "name": "stdout",
     "output_type": "stream",
     "text": [
      "Overwriting ./run-sycl.sh\n"
     ]
    }
   ],
   "source": [
    "%%writefile ./run-sycl.sh\n",
    "#!/bin/bash -x\n",
    "source /opt/intel/oneapi/setvars.sh > /dev/null 2>&1\n",
    "icpx -fsycl compute.cpp\n",
    "if [ $? -eq 0 ]; then ./a.out; fi"
   ]
  },
  {
   "cell_type": "code",
   "execution_count": 277,
   "id": "c397d703-185e-4d20-a732-9472298e9344",
   "metadata": {},
   "outputs": [
    {
     "name": "stdout",
     "output_type": "stream",
     "text": [
      "Running on 12th Gen Intel(R) Core(TM) i7-1280P\n",
      "Part of the resulting matrix C:\n",
      "3 4 \n",
      "11 16 \n"
     ]
    }
   ],
   "source": [
    "!chmod u+x ./run-sycl.sh &&./run-sycl.sh"
   ]
  },
  {
   "cell_type": "code",
   "execution_count": null,
   "id": "78e493ec-c4bc-40a6-a526-a4af9decf30e",
   "metadata": {},
   "outputs": [],
   "source": []
  },
  {
   "cell_type": "code",
   "execution_count": null,
   "id": "da6b7bb4-db05-47dd-beb9-3e2f1b0ed86f",
   "metadata": {},
   "outputs": [],
   "source": []
  },
  {
   "cell_type": "code",
   "execution_count": null,
   "id": "202d5bd0-a29a-42d3-a93d-a554efc6889c",
   "metadata": {},
   "outputs": [],
   "source": []
  },
  {
   "cell_type": "markdown",
   "id": "4f5286d2-2432-45f9-8fbb-d0d6ad7adc37",
   "metadata": {},
   "source": [
    "UChicago Argonne, LLC, All rights reserved"
   ]
  },
  {
   "cell_type": "code",
   "execution_count": null,
   "id": "6a74954f-677c-421a-8174-1f7abcdaadb3",
   "metadata": {},
   "outputs": [],
   "source": []
  }
 ],
 "metadata": {
  "kernelspec": {
   "display_name": "Python 3 (ipykernel)",
   "language": "python",
   "name": "python3"
  },
  "language_info": {
   "codemirror_mode": {
    "name": "ipython",
    "version": 3
   },
   "file_extension": ".py",
   "mimetype": "text/x-python",
   "name": "python",
   "nbconvert_exporter": "python",
   "pygments_lexer": "ipython3",
   "version": "3.9.19"
  }
 },
 "nbformat": 4,
 "nbformat_minor": 5
}
