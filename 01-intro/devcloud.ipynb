{
 "cells": [
  {
   "cell_type": "markdown",
   "id": "aca44024",
   "metadata": {},
   "source": [
    "## Creating your account at the Intel Developer Cloud (5 minutes)\n",
    "\n",
    "These code examples can be executed at the Intel Dev Cloud. If you don’t\n",
    "have an account, point your browser to\n",
    "<https://www.intel.com/content/www/us/en/developer/tools/devcloud/services.html>\n",
    "and click on the “Sign Up” button.\n",
    "\n",
    "You will be asked to enter an email. The system will send a verification\n",
    "code to your email account. Enter the verification code and now the\n",
    "system will ask you to enter and verify a password. After this step you\n",
    "must Terms and Conditions and then you will be in.\n",
    "\n",
    "From the three possible options you are given (**Learn**, **Evaluate**,\n",
    "**Deploy**), select **Learn** and press its corresponding Get Started\n",
    "button.\n",
    "\n",
    "In the new screen, use the leftmost button **Connect to a GPU**. After a\n",
    "few seconds, a window will pop up letting you know that **Your\n",
    "JupyterLab access is ready**. Press the **Launch** button. It may take a\n",
    "few seconds or up to a minute to connect. At this point you will be\n",
    "presented with a JupyterLab interface that may be already familiar to\n",
    "you."
   ]
  }
 ],
 "metadata": {
  "kernelspec": {
   "display_name": "Python 3 (ipykernel)",
   "language": "python",
   "name": "python3"
  },
  "language_info": {
   "codemirror_mode": {
    "name": "ipython",
    "version": 3
   },
   "file_extension": ".py",
   "mimetype": "text/x-python",
   "name": "python",
   "nbconvert_exporter": "python",
   "pygments_lexer": "ipython3",
   "version": "3.9.19"
  }
 },
 "nbformat": 4,
 "nbformat_minor": 5
}
