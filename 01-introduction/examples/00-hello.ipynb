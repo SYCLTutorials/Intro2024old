{
 "cells": [
  {
   "cell_type": "markdown",
   "id": "5e21158e-9144-4e11-9f18-7fb26264c521",
   "metadata": {},
   "source": [
    "# SYCL devices"
   ]
  },
  {
   "cell_type": "code",
   "execution_count": 5,
   "id": "62204293-4120-4488-a3ac-cf3a288629bc",
   "metadata": {},
   "outputs": [
    {
     "name": "stdout",
     "output_type": "stream",
     "text": [
      "Overwriting compute.cpp\n"
     ]
    }
   ],
   "source": [
    "%%writefile compute.cpp\n",
    "#include <iostream>\n",
    "#include <sycl/sycl.hpp>\n",
    "\n",
    "int main() {\n",
    "    \n",
    "    auto myQueue = sycl::queue{sycl::gpu_selector_v};\n",
    "    std::cout << \"Running on \"\n",
    "              << myQueue.get_device().get_info<sycl::info::device::name>()\n",
    "              << std::endl;\n",
    "\n",
    "    // Submit a command group to the queue\n",
    "    myQueue.submit([&](sycl::handler &cgh) {\n",
    "                   \n",
    "            // Create a stream for output within kernel\n",
    "            auto os = sycl::stream{128, 128, cgh};\n",
    "\n",
    "        //              _             _        _            _\n",
    "        //          ___(_)_ __   __ _| | ___  | |_ __ _ ___| | __\n",
    "        //         / __| | '_ \\ / _` | |/ _ \\ | __/ _` / __| |/ /\n",
    "        //         \\__ \\ | | | | (_| | |  __/ | || (_| \\__ \\   <\n",
    "        //         |___/_|_| |_|\\__, |_|\\___|  \\__\\__,_|___/_|\\_\\\n",
    "        //                      |___/\n",
    "\n",
    "            // Execute a single task\n",
    "            cgh.single_task([=]() {\n",
    "                os << \"Hello World!\"<< sycl::endl; \n",
    "                });\n",
    "        })\n",
    "        .wait();  // Wait for completion\n",
    "    return 0;\n",
    "}"
   ]
  },
  {
   "cell_type": "code",
   "execution_count": 6,
   "id": "3b6b07da-7c3a-4826-b4e9-7ab163eecc9a",
   "metadata": {},
   "outputs": [
    {
     "name": "stdout",
     "output_type": "stream",
     "text": [
      "Overwriting ./run-sycl.sh\n"
     ]
    }
   ],
   "source": [
    "%%writefile ./run-sycl.sh\n",
    "#!/bin/bash \n",
    "source /opt/intel/oneapi/setvars.sh > /dev/null 2>&1\n",
    "icpx -fsycl compute.cpp\n",
    "if [ $? -eq 0 ]; then ./a.out; fi"
   ]
  },
  {
   "cell_type": "code",
   "execution_count": 7,
   "id": "2cf3d4ff-d4f7-4ea3-b009-35cafb9279b3",
   "metadata": {},
   "outputs": [
    {
     "name": "stdout",
     "output_type": "stream",
     "text": [
      "Running on Intel(R) Graphics [0x46a6]\n",
      "Hello World!\n"
     ]
    }
   ],
   "source": [
    "!chmod u+x ./run-sycl.sh &&./run-sycl.sh"
   ]
  },
  {
   "cell_type": "code",
   "execution_count": null,
   "id": "64aab2ba-19c6-45b6-aa40-a6c563c54a5e",
   "metadata": {},
   "outputs": [],
   "source": []
  }
 ],
 "metadata": {
  "kernelspec": {
   "display_name": "Python 3 (ipykernel)",
   "language": "python",
   "name": "python3"
  },
  "language_info": {
   "codemirror_mode": {
    "name": "ipython",
    "version": 3
   },
   "file_extension": ".py",
   "mimetype": "text/x-python",
   "name": "python",
   "nbconvert_exporter": "python",
   "pygments_lexer": "ipython3",
   "version": "3.9.19"
  }
 },
 "nbformat": 4,
 "nbformat_minor": 5
}
