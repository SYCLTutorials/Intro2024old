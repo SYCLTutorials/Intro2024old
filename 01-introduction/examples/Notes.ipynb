{
 "cells": [
  {
   "cell_type": "code",
   "execution_count": null,
   "id": "0",
   "metadata": {},
   "outputs": [],
   "source": [
    "%%writefile compute.cpp\n",
    "#include <sycl/sycl.hpp>\n",
    "#include <iostream>\n",
    "\n",
    "int main(){\n",
    "    //# select device for offload\n",
    "    sycl::queue q(sycl::gpu_selector_v);\n",
    "    std::cout << \"Offload Device: \" << q.get_device().get_info<sycl::info::device::name>() << \"\\n\";\n",
    "\n",
    "    //# initialize some data array\n",
    "    const int N = 16;\n",
    "    auto data = sycl::malloc_shared<float>(N, q);\n",
    "    for(int i=0;i<N;i++) data[i] = i;\n",
    "\n",
    "    //# computation on GPU\n",
    "    q.single_task([=](){\n",
    "        for(int i=0;i<N;i++) data[i] = data[i] * 5;\n",
    "    }).wait();\n",
    "\n",
    "    //# print output\n",
    "    for(int i=0;i<N;i++) std::cout << data[i] << \"\\n\"; \n",
    "}"
   ]
  },
  {
   "cell_type": "code",
   "execution_count": null,
   "id": "fcfcbb24-ea6e-43db-9dc0-e8b4f61482af",
   "metadata": {},
   "outputs": [],
   "source": [
    "%%writefile ./run-dot.sh\n",
    "\n",
    "#!/bin/bash \n",
    "source /opt/intel/oneapi/setvars.sh > /dev/null 2>&1\n",
    "icpx -fsycl compute.cpp\n",
    "if [ $? -eq 0 ]; then ./a.out; fi"
   ]
  },
  {
   "cell_type": "code",
   "execution_count": null,
   "id": "1",
   "metadata": {},
   "outputs": [],
   "source": [
    "!chmod u+x ./run-dot.sh &&./run-dot.sh"
   ]
  },
  {
   "cell_type": "markdown",
   "id": "5793c764-942c-4ea8-9d16-a8fb6b62f4e6",
   "metadata": {},
   "source": [
    "<pre><code class=\"language-c++\">int foo (void) \n",
    "{\n",
    "    int i;\n",
    "}\n",
    "</code></pre>"
   ]
  },
  {
   "cell_type": "markdown",
   "id": "f41aafb4-d1b8-4bea-b494-e32285e8b75b",
   "metadata": {},
   "source": [
    "<table>\n",
    "<tr>\n",
    "<th> CPU </th>\n",
    "<th> Device </th>\n",
    "</tr>\n",
    "<tr>\n",
    "<td>\n",
    "\n",
    "```c++\n",
    " for(int i=0; i < N; i++) \n",
    "     data[i] = i;\n",
    "```\n",
    "\n",
    "</td>\n",
    "<td>\n",
    "    \n",
    "```c++\n",
    "    q.single_task([=](){\n",
    "        for( int i=0 ;i < N; i++) \n",
    "            data[i] = i;\n",
    "    }).wait();\n",
    "```\n",
    "\n",
    "</td>\n",
    "</tr>\n",
    "</table>"
   ]
  },
  {
   "cell_type": "markdown",
   "id": "34b8f47a-505c-420e-9a96-fc05bc2b873b",
   "metadata": {},
   "source": [
    "---\n",
    "title: Breaking pages\n",
    "output:\n",
    "  pdf_document: default\n",
    "  word_document: default\n",
    "  html_document: default\n",
    "  odt_document: default\n",
    "---\n",
    "\n",
    "# The first section\n",
    "\n",
    "\\newpage\n",
    "\n",
    "# The second section"
   ]
  },
  {
   "cell_type": "code",
   "execution_count": null,
   "id": "aad6d85c-ce58-478d-8303-bdb26f95c9e0",
   "metadata": {},
   "outputs": [],
   "source": []
  }
 ],
 "metadata": {
  "kernelspec": {
   "display_name": "Python 3 (ipykernel)",
   "language": "python",
   "name": "python3"
  },
  "language_info": {
   "codemirror_mode": {
    "name": "ipython",
    "version": 3
   },
   "file_extension": ".py",
   "mimetype": "text/x-python",
   "name": "python",
   "nbconvert_exporter": "python",
   "pygments_lexer": "ipython3",
   "version": "3.9.19"
  }
 },
 "nbformat": 4,
 "nbformat_minor": 5
}
