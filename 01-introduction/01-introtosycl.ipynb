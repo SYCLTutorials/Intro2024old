{
 "cells": [
  {
   "cell_type": "markdown",
   "id": "27d03299-b623-4a16-bd3b-0466edaa2b7e",
   "metadata": {},
   "source": [
    "# 01 - Introduction to SYCL Programming for GPUs\n",
    "\n",
    "Argonne Leadership Computing Facility, UChicago Argonne, LLC, All rights reserved\n",
    "\n",
    "In the rapidly evolving world of computing, the ability to harness the\n",
    "power of heterogeneous systems—where CPUs coexist with GPUs and other\n",
    "accelerators—has become increasingly vital. **SYCL** stands as a\n",
    "cutting-edge, single-source programming model designed to bridge this\n",
    "gap. Developed to be used with modern C++, SYCL abstracts the\n",
    "complexities associated with direct accelerator programming, making it\n",
    "accessible to both novice and experienced developers."
   ]
  },
  {
   "cell_type": "markdown",
   "id": "eaf14782-a383-4c36-837f-4b7e75a64470",
   "metadata": {},
   "source": [
    "### What is SYCL?\n",
    "\n",
    "SYCL is an open standard developed by the Khronos Group, the same group\n",
    "responsible for OpenGL. It allows developers to write code for\n",
    "heterogeneous systems using completely standard C++. This means that the\n",
    "same code can target CPUs, GPUs, DSPs, FPGAs, and other types of\n",
    "accelerators without modification. SYCL builds upon the foundation laid\n",
    "by OpenCL, offering a higher level of abstraction and deeper integration\n",
    "with C++.\n",
    "\n",
    "<img width=\"800\" src=https://www.khronos.org/assets/uploads/apis/2022-sycl-diagram.jpg>\n",
    "Image Source. https://www.khronos.org/sycl/"
   ]
  },
  {
   "cell_type": "markdown",
   "id": "f76aa5e3-6ebb-4942-ba0c-0ca0b8251efc",
   "metadata": {},
   "source": [
    "<img src=https://raw.githubusercontent.com/oneapi-src/oneAPI-samples/495ff2bb29b50698e9c6d3b12f7d8cf476e73d02/DirectProgramming/C++SYCL/Jupyter/oneapi-essentials-training/01_oneAPI_Intro/Assets/oneapi1.png>"
   ]
  },
  {
   "cell_type": "markdown",
   "id": "6fa7fa39-433f-4693-9058-28c6b66553bd",
   "metadata": {},
   "source": [
    "### Advantages of SYCL\n",
    "\n",
    "One of the primary advantages of SYCL is its ability to integrate\n",
    "seamlessly with C++17 and upcoming versions, enabling features like\n",
    "lambda functions, auto-typing, and templating. This integration not only\n",
    "improves the programmability and readability of the code but also\n",
    "leverages the type safety and performance optimizations provided by\n",
    "modern C++. Here are a few key benefits: - \n",
    "* **Single-Source Development**: Unlike traditional approaches that might require\n",
    "maintaining separate code bases for different architectures, SYCL\n",
    "unifies the code into a single source. This simplifies development and\n",
    "reduces maintenance burdens.\n",
    "* **Cross-Platform Portability**: SYCL code\n",
    "can be executed on any device that has a compatible SYCL runtime,\n",
    "providing true cross-platform capabilities.\n",
    "* **Performance**: With\n",
    "SYCL, developers do not have to sacrifice performance for portability.\n",
    "It allows fine control over parallel execution and memory management,\n",
    "which are critical for achieving optimal performance on GPUs.\n",
    "\n",
    "As GPUs continue to play a crucial role in fields ranging from\n",
    "scientific computing to machine learning, mastering SYCL can provide\n",
    "developers with the tools needed to fully exploit the capabilities of\n",
    "these powerful devices. The following sections will guide you through\n",
    "setting up your development environment, understanding the core concepts\n",
    "of SYCL, and walking you through practical examples to kickstart your\n",
    "journey in high-performance computing with SYCL.\n",
    "\n",
    "------------------------------------------------------------------------\n",
    "\n",
    "This introduction sets the stage for learning SYCL by highlighting its\n",
    "relevance, advantages, and integration with modern C++. It aims to build\n",
    "a strong foundation for the subsequent sections that delve deeper into\n",
    "SYCL programming.\n",
    "\n",
    "------------------------------------------------------------------------"
   ]
  },
  {
   "cell_type": "markdown",
   "id": "aec947dc-119b-4f4f-935a-01db51b5d7ab",
   "metadata": {},
   "source": [
    "# Basics of a SYCL Kernel \n",
    "\n",
    "In SYCL, all computations are submitted through a queue. This queue is associated with a device, and any computation assigned to the queue is executed on this device[^1].\n",
    "This is how we check if a gpu is available for use and then initialize a sycl queue for a gpu:\n",
    "```c++\n",
    "// Check for available GPU devices\n",
    "\n",
    "auto selector = sycl::default_selector_v;\n",
    "auto selector = sycl::gpu_selector{};\n",
    "auto selector = sycl::cpu_selector{};\n",
    "auto selector = sycl::accelerator_selector{};\n",
    "```\n",
    "\n",
    "# Creating a queue\n",
    "```c++\n",
    "// Create a queue using the GPU selector\n",
    "auto myQueue = sycl::queue{selector};\n",
    "```\n"
   ]
  },
  {
   "cell_type": "markdown",
   "id": "92e6d106-24ec-4aed-a169-3c0c8d74a8ab",
   "metadata": {},
   "source": [
    "\n",
    "# Understanding SYCL Kernel Command Group Execution\n",
    "\n",
    " A command group is a fundamental construct that encapsulates a set of operations meant to be executed on a device.\n",
    "\n",
    " ```c++\n",
    "gpuQueue.submit([&](sycl::handler &cgh) {\n",
    "  /* Command group function */\n",
    "})\n",
    "```\n",
    "\n",
    "<img width=\"255\" alt=\"\" src=\"images/image11.png\" >\n",
    "\n",
    "> The diagram illustrates the process of defining and submitting a SYCL command group.\n",
    "> It begins with a call to the submit function on a SYCL queue, which initiates the creation of a command group.\n",
    "> The submit function takes a command group function as its argument, within which a command group handler `cgh` is created.\n",
    "> Inside the command group function, the handler is used to specify dependencies, define the kernel function, and set up accessors for memory objects that the kernel will use. Once these elements are defined, the command group is assembled and ready for execution on the device.\n",
    "\n"
   ]
  },
  {
   "cell_type": "markdown",
   "id": "0417cc05-18bb-48c6-af6a-18e18fb69c08",
   "metadata": {},
   "source": [
    "# Enqueuing A Kernel\n",
    "\n",
    "In SYCL, all computations are submitted through a queue. This queue is\n",
    "associated with a device, and any computation assigned to the queue is\n",
    "executed on this device.\n",
    "\n",
    "SYCL offers two methods for managing data: \n",
    "\n",
    "1. **Buffer/Accessor Model:**\n",
    "This model uses buffers to store data and accessors to read or write\n",
    "data, ensuring safe memory management and synchronization.\n",
    "\n",
    "2. **Unified\n",
    "Shared Memory (USM) Model:** This model allows for direct data sharing\n",
    "between the host and device, simplifying memory management by\n",
    "eliminating the need for explicit buffers and accessors."
   ]
  },
  {
   "cell_type": "markdown",
   "id": "93641762-fee2-4e80-acc7-949e1956544f",
   "metadata": {},
   "source": [
    "# Scheduling\n",
    "\n",
    "A schedulre is a component responsible for managing the order and\n",
    "execution of tasks on computational resources.\n",
    "\n",
    "#### Scheduling Overview\n",
    "<img width=\"600\" src=\"images/image33.png\">\n",
    "\n",
    "-   When the **submit** function is called, it creates a command group\n",
    "    handler (**`cgh`**) and submits it to the scheduler.\n",
    "-   The scheduler is responsible for executing the commands on the\n",
    "    designated target device."
   ]
  },
  {
   "cell_type": "markdown",
   "id": "2bc94a5c-f22c-4146-b4d2-ed45585ce325",
   "metadata": {},
   "source": [
    "# Command Groups\n",
    "\n",
    "A command group is a fundamental construct that encapsulates a set of\n",
    "operations meant to be executed on a device.\n",
    "\n",
    "<img width=\"305\" src=\"images/image11.png\" >\n",
    "\n",
    "\n",
    "\n",
    "-   Command groups are defined by calling the **submit** function on the\n",
    "    queue.\n",
    "-   The **submit** function takes a command group handler (`cgh`) which\n",
    "    facilitates the composition of the command group.\n",
    "-   Inside the **submit** function, a handler is created and passed to\n",
    "    the `cgh`.\n",
    "-   This handler is then used by the `cgh` to assemble the command\n",
    "    group.\n",
    "\n",
    "``` c++\n",
    "gpuQueue.submit([&](sycl::handler &cgh) {\n",
    "  /* Command group function */\n",
    "})\n",
    "```"
   ]
  },
  {
   "cell_type": "markdown",
   "id": "a1cf5535-9ccd-4304-b650-b15b9b44abb4",
   "metadata": {},
   "source": [
    "### Lambda functions \n",
    "\n",
    "In SYCL, lambdas play a crucial role similar to their use in general programming, but they are specifically tailored for defining operations on data that will be executed on parallel devices like GPUs and CPUs. Like in other programming contexts, lambdas in SYCL allow for writing concise, anonymous functions. This capability is especially valuable in SYCL due to the nature of parallel computing, where operations often need to be defined locally and executed across a range of data elements.\n",
    "\n",
    "Lambdas in SYCL are structured similarly to standard C++ lambdas, but are specifically utilized within the SYCL framework to define the functionality of kernels that execute on parallel compute devices. The basic syntax of a lambda in SYCL can be summarized as follows:\n",
    "\n",
    "```cpp\n",
    "[capture_clause](input_signature) -> return_specification {\n",
    "    // execution_block\n",
    "}\n",
    "```\n",
    "\n",
    "In the context of SYCL you typically encounter the following types of captures:\n",
    "\n",
    "- `[]` : Captures nothing from the enclosing scope. This is used when the lambda does not need to access any external variables.\n",
    "\n",
    "- `[&]` : Captures all accessible variables from the surrounding scope by reference. Useful when you need to modify the external variables or when copying them is expensive.\n",
    "\n",
    "- `[=]` : Captures all accessible variables from the surrounding scope by value. This is safe when the lambda is executed asynchronously or on a separate device, ensuring that it works with a consistent copy of the data.\n",
    "\n",
    "For example, when defining a SYCL kernel, a developer might use a lambda to specify the computation that each thread should perform on the elements of a buffer. This lambda can capture necessary variables from its surrounding scope to use within the kernel execution:\n",
    "\n",
    "```c++\n",
    "buffer<float, 1> buf(data, range<1>(data_size));\n",
    "queue.submit([&](handler& cgh) {\n",
    "    auto acc = buf.get_access<access::mode::read_write>(cgh);\n",
    "    cgh.parallel_for(range<1>(data_size), [=](id<1> idx) {\n",
    "        acc[idx] *= 2; // Example operation: double each element\n",
    "    });\n",
    "});\n",
    "\n",
    "```"
   ]
  },
  {
   "cell_type": "markdown",
   "id": "6eea597a-8bfb-4614-84e3-530974ed1614",
   "metadata": {},
   "source": [
    "## Enqueuing SYCL Kernel Function Single_task example\n",
    "\n",
    "##### **<font color=\"green\">EXPLAIN HERE</font>**\n",
    "```c++\n",
    "\n",
    "// Select GPU devices\n",
    "auto gpu_selector = sycl::gpu_selector{};\n",
    "\n",
    "auto myQueue = sycl::queue{gpu_selector};\n",
    "\n",
    "// Submit a command group to the queue\n",
    "myQueue.submit([&](sycl::handler &cgh) {\n",
    "    // Create a stream for output within kernel\n",
    "    auto os = sycl::stream{128, 128, cgh};\n",
    "    // Execute a single task\n",
    "    cgh.single_task([=]() {\n",
    "      os << \"Hello World!\" << sycl::endl;\n",
    "    });\n",
    "    \n",
    "}).wait(); // Wait for completion of gpuQueue\n"
   ]
  },
  {
   "cell_type": "markdown",
   "id": "117c12ff-72b4-4fa3-8fa2-6c551c73bcaf",
   "metadata": {
    "jp-MarkdownHeadingCollapsed": true
   },
   "source": [
    "**<font color=\"red\">SEE example [00-hello.ipynb](examples/00-hello.ipynb)</font>**"
   ]
  },
  {
   "cell_type": "markdown",
   "id": "24a5ca8d-07f7-4867-a9d9-aa814e7f86af",
   "metadata": {},
   "source": [
    "# Managing Data\n",
    "\n",
    "\n",
    "## Buffers & Accessors\n",
    "\n",
    "Buffers and accessors are used in SYCL for managing and accessing data\n",
    "across different computing devices, including CPUs, GPUs, and other\n",
    "accelerators:\n",
    "\n",
    "\n",
    "<img width=\"600\" src=\"images/image22.png\">\n",
    "Diagram illustrating the relationship between buffers, accessors, and\n",
    "devices\n",
    "\n",
    "-   **Buffers**: Buffers are used to manage data across the host and\n",
    "    various devices. A buffer abstractly represents a block of data and\n",
    "    handles the storage, synchronization, and consistency of this data\n",
    "    across different memory environments. When a buffer object is\n",
    "    constructed, it does not immediately allocate or copy data to the\n",
    "    device memory. This allocation or transfer only occurs when the\n",
    "    runtime determines that a device needs to access the data,\n",
    "    optimizing memory usage and data transfer.\n",
    "\n",
    "\n",
    "-   **Accessors**: Accessors are used to request access to data that is\n",
    "    stored in buffers. They specify how and when the data in a buffer\n",
    "    should be accessed by a kernel function, either on the host or a\n",
    "    specific device. Accessors help in defining the required access\n",
    "    pattern (read, write, or read/write) and are crucial for ensuring\n",
    "    data consistency and coherency between the host and devices.\n"
   ]
  },
  {
   "cell_type": "markdown",
   "id": "66078be0-75a8-4755-8308-5acb5aa8d4c4",
   "metadata": {
    "jp-MarkdownHeadingCollapsed": true
   },
   "source": [
    "**Examples Buffer/Accessor Model:**\n",
    "```c++\n",
    "\n",
    "std::vector<int> vectorA(N, 1);  // Vector A filled with 1s\n",
    "\n",
    "// Buffers \n",
    "sycl::buffer<int> bufA {vectorA.data(),vectorA.size() };\n",
    "// or\n",
    "//auto bufA = sycl::buffer{vectorA.data(), sycl::range{N}};\n",
    "\n",
    "// Accessor\n",
    "sycl::accessor accA { bufA, cgh, sycl::read_only};\n",
    "\n",
    "```"
   ]
  },
  {
   "cell_type": "markdown",
   "id": "ce98774b-1389-4423-9771-7f6819578614",
   "metadata": {},
   "source": [
    "### Buffers\n",
    "\n",
    "Explain HERE \n",
    "\n",
    "```c++\n",
    "int const size = 10;\n",
    "//  buffer is the memory object to transfer  data between host and device\n",
    "buffer<int> A{ size };\n",
    "// cgh is a handler that defines the command group which contains the task function\n",
    "myQueue.submit([&](sycl::handler &cgh) {\n",
    "    // accessor object allows access the buffer elements\n",
    "    sycl::accessor accA { bufA, cgh};\n",
    "};\n",
    "\n",
    "// host_accessor allows the host to access the buffer memory\n",
    "sycl::host_accessor result(A);  \n",
    "```"
   ]
  },
  {
   "cell_type": "markdown",
   "id": "ffaf4bcb-21cd-45a5-b428-45e75013ecdb",
   "metadata": {},
   "source": [
    "## **Unified Shared Memory (USM) Model:** \n",
    "This model allows for direct data sharing between the host and device, simplifying memory management by eliminating the need for explicit buffers and accessors. Here is the following changes from the buffer/accessor model to USM model:\n",
    "\n",
    "```c++\n",
    "// Allocate memory using USM\n",
    " float* usmA = sycl::malloc_shared<float>(N, gpuQueue);\n",
    "\n",
    " // Initialize USM memory\n",
    " std::copy(vectorA.begin(), vectorA.end(), usmA);\n",
    "```"
   ]
  },
  {
   "cell_type": "markdown",
   "id": "0d4613df-1477-4623-9313-4f33bc01720a",
   "metadata": {},
   "source": [
    "# How to compile SYCL code\n",
    "\n"
   ]
  },
  {
   "cell_type": "markdown",
   "id": "9f8c50da-036b-494b-aafb-5883e7a09bbe",
   "metadata": {},
   "source": [
    "```bash\n",
    "icpx -fsycl compute.cpp -o ./a.out\n",
    "```"
   ]
  },
  {
   "cell_type": "markdown",
   "id": "f7e3ba96-b8b7-4e74-ac13-4c93613bd1d8",
   "metadata": {},
   "source": [
    "### TODO\n"
   ]
  },
  {
   "cell_type": "markdown",
   "id": "ee9edf07-eac9-4264-bf46-c8da2e2d3728",
   "metadata": {},
   "source": [
    "### Parallel_for\n",
    "\n",
    "Explain HERE \n",
    "\n",
    "```c++\n",
    "myQueue.submit([&](sycl::handler &cgh) {\n",
    "    sycl::accessor accA { bufA, cgh, sycl::write_only};\n",
    "    cgh.parallel_for(N, [=](auto idx) { \n",
    "        accA[i] = idx });\n",
    "    });\n",
    "```"
   ]
  },
  {
   "cell_type": "code",
   "execution_count": null,
   "id": "7ee66369-fd27-45db-8ff3-7cafe36495cf",
   "metadata": {},
   "outputs": [],
   "source": []
  }
 ],
 "metadata": {
  "kernelspec": {
   "display_name": "Python 3 (ipykernel)",
   "language": "python",
   "name": "python3"
  },
  "language_info": {
   "codemirror_mode": {
    "name": "ipython",
    "version": 3
   },
   "file_extension": ".py",
   "mimetype": "text/x-python",
   "name": "python",
   "nbconvert_exporter": "python",
   "pygments_lexer": "ipython3",
   "version": "3.9.19"
  }
 },
 "nbformat": 4,
 "nbformat_minor": 5
}
