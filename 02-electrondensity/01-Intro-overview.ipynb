{
 "cells": [
  {
   "cell_type": "markdown",
   "id": "14d7cc5e-44f2-4dd9-8ac1-02ccb4657481",
   "metadata": {},
   "source": [
    "# 02 - Electron density\n",
    "Electron density is vital in theoretical and computational chemistry and materials science. It is an \"observable\" quantity, according to the quantum mechanical definition, so we can measure it experimentally (X-Ray, neutron diffraction), unlike the wave-function or the orbitals. Regardless of the number of particles, it is always a real function of three variables (x, y, z), whereas the wave-function of N particles is a function of 4 N variables (three for spatial coordinates and one for the spin).\n",
    "\n",
    "According to the theorems of Hohenberg and Kohn, the electron density contains all the information of the system (molecular or solid) in its basal states because, in principle, by knowing the electron density, we know all the properties of the system.  The Hohenberg-Kohn theorems are the basis of the Density Functional Theory (DFT); today, DFT has become the workhorse of modern computational chemistry and materials science.\n",
    "Electron density analysis *per se* provides a variety of knowledge, such as chemical bond analysis, reactivity and molecular properties like electrostatic potential.\n",
    "\n",
    "This module will present a way to evaluate electron density (a 3D scalar field) using SYCL."
   ]
  },
  {
   "cell_type": "markdown",
   "id": "3ffeb026-1f2b-4677-b340-d109fe907e8d",
   "metadata": {},
   "source": [
    "## Mathematical grounding\n",
    "\n",
    "The electron density, when we are using localized basis set in molecular systems, can be  written in the following form as the sum of $N$ squared molecular orbitals { $\\phi_i$ } multiplied by a value called the occupation number ($\\omega_i$).\n",
    "\n",
    "$$\\rho(\\vec{r}) = \\sum_i^N \\omega_i \\left| \\phi_i(\\vec{r}) \\right|^2$$\n",
    "\n",
    "While the orbitals are  determined from a linear combination of $K$ primitive functions, Cartesian Gaussian in this case, centered on the different nuclei ($R_\\mu$) of the molecule. The coefficients ($c_{i\\mu}$) are obtained from computational chemistry methods.\n",
    "\n",
    "$$\\phi_i(\\vec{r}) = \\sum_\\mu^K c_{i \\mu} \\; g\\left(\\vec{r}; \\alpha_\\mu, \\vec{R_\\mu}, \\vec{l_\\mu}\\right)$$\n",
    "\n",
    "Finally, Gaussian functions are 3-dimensional functions, as we mentioned above, they are centered on atoms that form the molecular system ($\\vec{R} = (X, Y, Z)$) and whose exponents ($\\alpha$) have been  previously optimized. Each Gaussian function is characterized by its center, the exponent, and the product of polynomials  in each Cartesian coordinate.\n",
    "\n",
    "$$g\\left(\\vec{r}; \\alpha, R, \\vec{l}\\right) = (x - X)^{l_x}(y - Y)^{l_y}(z - Z)^{l_z} \\; e^{-\\alpha|\\vec{r}-\\vec{R}|^2}$$"
   ]
  },
  {
   "cell_type": "markdown",
   "id": "dffec9dd-aebb-4f22-82fd-f63bfb96cf4a",
   "metadata": {},
   "source": [
    "All rights reserved. Copyright Argonne National Laboratory UChicago LLC."
   ]
  },
  {
   "cell_type": "code",
   "execution_count": null,
   "id": "bb04bea1-5c05-400f-adb2-fb39c53dd249",
   "metadata": {},
   "outputs": [],
   "source": []
  }
 ],
 "metadata": {
  "kernelspec": {
   "display_name": "Python 3 (ipykernel)",
   "language": "python",
   "name": "python3"
  },
  "language_info": {
   "codemirror_mode": {
    "name": "ipython",
    "version": 3
   },
   "file_extension": ".py",
   "mimetype": "text/x-python",
   "name": "python",
   "nbconvert_exporter": "python",
   "pygments_lexer": "ipython3",
   "version": "3.9.19"
  }
 },
 "nbformat": 4,
 "nbformat_minor": 5
}
