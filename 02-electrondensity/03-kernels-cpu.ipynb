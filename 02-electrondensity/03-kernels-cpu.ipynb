{
 "cells": [
  {
   "cell_type": "markdown",
   "id": "80b2826b-6c5d-4b2b-b96d-c53a8d683068",
   "metadata": {},
   "source": [
    "## CPU ONLY kernel"
   ]
  },
  {
   "cell_type": "code",
   "execution_count": null,
   "id": "893efdc9-ee3e-4128-a6b4-301e01fd4636",
   "metadata": {},
   "outputs": [],
   "source": [
    "%%writefile src/functionED.xx\n",
    "\n",
    "// CPU CODE\n",
    "void Field::evalDensity() {\n",
    "\n",
    "    vector<float> field;\n",
    "    \n",
    "    float *coor = new float[3 * wf.natm];\n",
    "    for (int i = 0; i < wf.natm; i++) {\n",
    "        Rvector R(wf.atoms[i].getCoors());\n",
    "        coor[3 * i] = R.get_x();\n",
    "        coor[3 * i + 1] = R.get_y();\n",
    "        coor[3 * i + 2] = R.get_z();\n",
    "    }\n",
    "\n",
    "    std::cout << \" Points ( \" << npoints_x << \",\" << npoints_y << \",\" << npoints_z\n",
    "            << \")\" << std::endl;\n",
    "    std::cout << \" TotalPoints : \" << npoints_x * npoints_y * npoints_z\n",
    "            << std::endl;\n",
    "\n",
    "    for (int i = 0; i < npoints_x; i++) {\n",
    "    const float x = xmin + i * delta;\n",
    "        for (int j = 0; j < npoints_y; j++) {\n",
    "            const float y = ymin + j * delta;\n",
    "            for (int k = 0; k < npoints_z; k++) {\n",
    "                const float z = zmin + k * delta;\n",
    "                float cart[3];\n",
    "                cart[0] = x;\n",
    "                cart[1] = y;\n",
    "                cart[2] = z;\n",
    "                \n",
    "                float den = Density(wf.norb, wf.npri, wf.icntrs.data(),\n",
    "                                      wf.vang.data(), cart, coor, wf.depris.data(),\n",
    "                                      wf.dnoccs.data(), wf.dcoefs.data());\n",
    "                \n",
    "                field.push_back(den);\n",
    "            }\n",
    "        }\n",
    "    }\n",
    "#ifdef PRINTCUBE\n",
    "    dumpCube(xmin, ymin, zmin, delta, npoints_x, npoints_y, npoints_z, field,\n",
    "           \"densityCPU.cube\");\n",
    "    //  dumpXYZ(\"structure.xyz\");\n",
    "#endif\n",
    "    delete[] coor;\n",
    "}\n",
    "\n"
   ]
  },
  {
   "cell_type": "markdown",
   "id": "7511bd01-96e9-4112-ba4e-3dbf66aa00f7",
   "metadata": {},
   "source": [
    "All rights reserved. Copyright Argonne National Laboratory UChicago LLC."
   ]
  },
  {
   "cell_type": "code",
   "execution_count": null,
   "id": "517c467e-9734-449a-935b-053798154dde",
   "metadata": {},
   "outputs": [],
   "source": []
  }
 ],
 "metadata": {
  "kernelspec": {
   "display_name": "Python 3 (ipykernel)",
   "language": "python",
   "name": "python3"
  },
  "language_info": {
   "codemirror_mode": {
    "name": "ipython",
    "version": 3
   },
   "file_extension": ".py",
   "mimetype": "text/x-python",
   "name": "python",
   "nbconvert_exporter": "python",
   "pygments_lexer": "ipython3",
   "version": "3.9.19"
  }
 },
 "nbformat": 4,
 "nbformat_minor": 5
}
