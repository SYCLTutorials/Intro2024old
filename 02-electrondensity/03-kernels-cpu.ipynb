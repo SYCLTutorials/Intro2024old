{
 "cells": [
  {
   "cell_type": "code",
   "execution_count": null,
   "id": "759b641c-ea54-4b35-8733-b8aa96b04e32",
   "metadata": {},
   "outputs": [],
   "source": []
  },
  {
   "cell_type": "code",
   "execution_count": 2,
   "id": "893efdc9-ee3e-4128-a6b4-301e01fd4636",
   "metadata": {},
   "outputs": [
    {
     "name": "stdout",
     "output_type": "stream",
     "text": [
      "Writing src/functionED.xx\n"
     ]
    }
   ],
   "source": [
    "%%writefile src/functionED.xx\n",
    "\n",
    "// CPU CODE\n",
    "void Field::evalDensity() {\n",
    "\n",
    "    vector<float> field;\n",
    "    \n",
    "    float *coor = new float[3 * wf.natm];\n",
    "    for (int i = 0; i < wf.natm; i++) {\n",
    "        Rvector R(wf.atoms[i].getCoors());\n",
    "        coor[3 * i] = R.get_x();\n",
    "        coor[3 * i + 1] = R.get_y();\n",
    "        coor[3 * i + 2] = R.get_z();\n",
    "    }\n",
    "\n",
    "    std::cout << \" Points ( \" << npoints_x << \",\" << npoints_y << \",\" << npoints_z\n",
    "            << \")\" << std::endl;\n",
    "    std::cout << \" TotalPoints : \" << npoints_x * npoints_y * npoints_z\n",
    "            << std::endl;\n",
    "\n",
    "    for (int i = 0; i < npoints_x; i++) {\n",
    "    float x = xmin + i * delta;\n",
    "        for (int j = 0; j < npoints_y; j++) {\n",
    "            float y = ymin + j * delta;\n",
    "            for (int k = 0; k < npoints_z; k++) {\n",
    "                float z = zmin + k * delta;\n",
    "                float r[3];\n",
    "                r[0] = x;\n",
    "                r[1] = y;\n",
    "                r[2] = z;\n",
    "                \n",
    "                float den = Density(wf.norb, wf.npri, wf.icntrs.data(),\n",
    "                                      wf.vang.data(), r, coor, wf.depris.data(),\n",
    "                                      wf.dnoccs.data(), wf.dcoefs.data());\n",
    "                \n",
    "                field.push_back(den);\n",
    "            }\n",
    "        }\n",
    "    }\n",
    "#ifdef PRINTCUBE\n",
    "    dumpCube(xmin, ymin, zmin, delta, npoints_x, npoints_y, npoints_z, field,\n",
    "           \"densityCPU.cube\");\n",
    "    //  dumpXYZ(\"structure.xyz\");\n",
    "#endif\n",
    "    delete[] coor;\n",
    "}\n",
    "\n"
   ]
  },
  {
   "cell_type": "code",
   "execution_count": null,
   "id": "2a21edec-7902-4e39-a9d1-7c90d81a6f85",
   "metadata": {},
   "outputs": [],
   "source": []
  },
  {
   "cell_type": "code",
   "execution_count": null,
   "id": "517c467e-9734-449a-935b-053798154dde",
   "metadata": {},
   "outputs": [],
   "source": []
  }
 ],
 "metadata": {
  "kernelspec": {
   "display_name": "Python 3 (ipykernel)",
   "language": "python",
   "name": "python3"
  },
  "language_info": {
   "codemirror_mode": {
    "name": "ipython",
    "version": 3
   },
   "file_extension": ".py",
   "mimetype": "text/x-python",
   "name": "python",
   "nbconvert_exporter": "python",
   "pygments_lexer": "ipython3",
   "version": "3.9.19"
  }
 },
 "nbformat": 4,
 "nbformat_minor": 5
}
