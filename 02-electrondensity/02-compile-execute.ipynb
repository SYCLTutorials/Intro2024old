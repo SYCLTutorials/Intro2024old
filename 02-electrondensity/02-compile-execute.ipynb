{
 "cells": [
  {
   "cell_type": "code",
   "execution_count": null,
   "id": "9c48ca5c-7866-40f3-9e16-3495eee1729c",
   "metadata": {},
   "outputs": [],
   "source": [
    "%%writefile ./run-sycl.sh\n",
    "#!/bin/bash -x\n",
    "source /opt/intel/oneapi/setvars.sh > /dev/null 2>&1\n",
    "NOW=$(date +\"%m-%d-%Y\")\n",
    "cmake -Bbuild -DCMAKE_CXX_COMPILER=icpx -Ssrc\n",
    "cd build && make -j8"
   ]
  },
  {
   "cell_type": "code",
   "execution_count": null,
   "id": "aaf10acc-e6ba-492f-9bcc-23da1d1dc0da",
   "metadata": {},
   "outputs": [],
   "source": [
    "!chmod u+x ./run-sycl.sh &&./run-sycl.sh"
   ]
  },
  {
   "cell_type": "code",
   "execution_count": null,
   "id": "3fafd3e3-ad58-4913-a3f0-8cb26feb6ff0",
   "metadata": {},
   "outputs": [],
   "source": [
    "!rm handleWF.x densityCPU.cube Makefile run-sycl.sh build -rf"
   ]
  },
  {
   "cell_type": "code",
   "execution_count": null,
   "id": "dd52f0f5-5c04-4ec7-95c9-a84455b6b4d2",
   "metadata": {},
   "outputs": [],
   "source": [
    "%%writefile ./run-sycl.sh\n",
    "#!/bin/bash -x\n",
    "source /opt/intel/oneapi/setvars.sh > /dev/null 2>&1\n",
    "export ONEAPI_DEVICE_SELECTOR=opencl:cpu \n",
    "./build/handleWF.x ./test/dimer_HCOOH.wfx -10.00 0.8"
   ]
  },
  {
   "cell_type": "code",
   "execution_count": null,
   "id": "367ac4ad-207f-4e3e-a752-60c06197b895",
   "metadata": {},
   "outputs": [],
   "source": [
    "!chmod u+x ./run-sycl.sh &&./run-sycl.sh"
   ]
  },
  {
   "cell_type": "code",
   "execution_count": null,
   "id": "121440c5-b14d-48a8-8c0a-725fd2663ee3",
   "metadata": {},
   "outputs": [],
   "source": [
    "%%writefile ./run-sycl.sh\n",
    "#!/bin/bash -x\n",
    "source /opt/intel/oneapi/setvars.sh > /dev/null 2>&1\n",
    "export ONEAPI_DEVICE_SELECTOR=opencl:cpu\n",
    "./build/handleWF.x ./test/dimer_HCOOH.wfx -10.00 0.8\n",
    "# ONEAPI_DEVICE_SELECTOR=opencl:gpu \n",
    "# ./build/handleWF.x ./test/dimer_HCOOH.wfx -10.00 0.8"
   ]
  },
  {
   "cell_type": "code",
   "execution_count": null,
   "id": "741b6b6c-12d7-486d-8860-b1f9b8498187",
   "metadata": {},
   "outputs": [],
   "source": [
    "!chmod u+x ./run-sycl.sh &&./run-sycl.sh"
   ]
  },
  {
   "cell_type": "code",
   "execution_count": null,
   "id": "08819669-3011-41a5-99b8-487455280c88",
   "metadata": {},
   "outputs": [],
   "source": [
    "%%writefile ./run-sycl.sh\n",
    "#!/bin/bash -x\n",
    "source /opt/intel/oneapi/setvars.sh > /dev/null 2>&1\n",
    "export ONEAPI_DEVICE_SELECTOR=opencl:cpu\n",
    "./build/handleWF.x ./test/dimer_HCOOH.wfx -10.00 0.8\n",
    "# ONEAPI_DEVICE_SELECTOR=opencl:gpu \n",
    "# ./build/handleWF.x ./test/dimer_HCOOH.wfx -10.00 0.8\n",
    "#ONEAPI_DEVICE_SELECTOR=opencl:gpu ./build/handleWF.x ./test/dimer_HCOOH.wfx -10.00 0.8"
   ]
  },
  {
   "cell_type": "code",
   "execution_count": null,
   "id": "90116b9f-d872-4bc7-91b9-9ab7e00e4bf6",
   "metadata": {},
   "outputs": [],
   "source": [
    "%%writefile ./run-sycl.sh\n",
    "#!/bin/bash -x\n",
    "source /opt/intel/oneapi/setvars.sh > /dev/null 2>&1\n",
    "export ONEAPI_DEVICE_SELECTOR=opencl:cpu\n",
    "./build/handleWF.x ./test/dimer_HCOOH.wfx -10.00 0.8\n",
    "# ONEAPI_DEVICE_SELECTOR=opencl:gpu \n",
    "# ./build/handleWF.x ./test/dimer_HCOOH.wfx -10.00 0.8\n",
    "ONEAPI_DEVICE_SELECTOR=level_zero:0 ./handleWF.x ../test/dimer_HCOOH.wfx -10.00 0.8"
   ]
  },
  {
   "cell_type": "code",
   "execution_count": null,
   "id": "3a88f8c5-37f2-4efd-a391-86bbefa01908",
   "metadata": {},
   "outputs": [],
   "source": [
    "!chmod u+x ./cleandir.sh &&./cleandir.sh"
   ]
  },
  {
   "cell_type": "code",
   "execution_count": null,
   "id": "46565e60-fe01-4632-a5ad-62f665ae3d91",
   "metadata": {},
   "outputs": [],
   "source": []
  }
 ],
 "metadata": {
  "kernelspec": {
   "display_name": "Python 3 (ipykernel)",
   "language": "python",
   "name": "python3"
  },
  "language_info": {
   "codemirror_mode": {
    "name": "ipython",
    "version": 3
   },
   "file_extension": ".py",
   "mimetype": "text/x-python",
   "name": "python",
   "nbconvert_exporter": "python",
   "pygments_lexer": "ipython3",
   "version": "3.9.19"
  }
 },
 "nbformat": 4,
 "nbformat_minor": 5
}
