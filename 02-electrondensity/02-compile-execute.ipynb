{
 "cells": [
  {
   "cell_type": "code",
   "execution_count": null,
   "id": "9c48ca5c-7866-40f3-9e16-3495eee1729c",
   "metadata": {},
   "outputs": [],
   "source": [
    "%%writefile ./run-sycl.sh\n",
    "#!/bin/bash -x\n",
    "source /opt/intel/oneapi/setvars.sh > /dev/null 2>&1\n",
    "NOW=$(date +\"%m-%d-%Y\")\n",
    "cmake -Bbuild -DCMAKE_CXX_COMPILER=icpx -Ssrc\n",
    "cd build && make -j8"
   ]
  },
  {
   "cell_type": "code",
   "execution_count": null,
   "id": "aaf10acc-e6ba-492f-9bcc-23da1d1dc0da",
   "metadata": {},
   "outputs": [],
   "source": [
    "!chmod u+x ./run-sycl.sh &&./run-sycl.sh"
   ]
  },
  {
   "cell_type": "code",
   "execution_count": null,
   "id": "dd52f0f5-5c04-4ec7-95c9-a84455b6b4d2",
   "metadata": {},
   "outputs": [],
   "source": [
    "%%writefile ./run-sycl.sh\n",
    "#!/bin/bash -x\n",
    "source /opt/intel/oneapi/setvars.sh > /dev/null 2>&1\n",
    "export ONEAPI_DEVICE_SELECTOR=opencl:cpu\n",
    "\n",
    "# ONEAPI_DEVICE_SELECTOR=opencl:gpu\n",
    "# ONEAPI_DEVICE_SELECTOR=level_zero:0\n",
    "./build/handleWF.x ./test/dimer_HCOOH.wfx -10.00 0.8"
   ]
  },
  {
   "cell_type": "code",
   "execution_count": null,
   "id": "367ac4ad-207f-4e3e-a752-60c06197b895",
   "metadata": {},
   "outputs": [],
   "source": [
    "!chmod u+x ./run-sycl.sh &&./run-sycl.sh"
   ]
  }
 ],
 "metadata": {
  "kernelspec": {
   "display_name": "Python 3 (ipykernel)",
   "language": "python",
   "name": "python3"
  },
  "language_info": {
   "codemirror_mode": {
    "name": "ipython",
    "version": 3
   },
   "file_extension": ".py",
   "mimetype": "text/x-python",
   "name": "python",
   "nbconvert_exporter": "python",
   "pygments_lexer": "ipython3",
   "version": "3.9.19"
  }
 },
 "nbformat": 4,
 "nbformat_minor": 5
}
