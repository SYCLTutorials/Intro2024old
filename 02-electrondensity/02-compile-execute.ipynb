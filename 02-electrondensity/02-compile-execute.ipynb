{
 "cells": [
  {
   "cell_type": "code",
   "execution_count": null,
   "id": "9c48ca5c-7866-40f3-9e16-3495eee1729c",
   "metadata": {},
   "outputs": [],
   "source": [
    "%%writefile ./run-sycl.sh\n",
    "#!/bin/bash -x\n",
    "source /opt/intel/oneapi/setvars.sh > /dev/null 2>&1\n",
    "NOW=$(date +\"%m-%d-%Y\")\n",
    "#rm -rf build\n",
    "cmake -Bbuild -DCMAKE_CXX_COMPILER=icpx -DDEBUG=1 -Ssrc \n",
    "cd build && make -j8"
   ]
  },
  {
   "cell_type": "code",
   "execution_count": null,
   "id": "aaf10acc-e6ba-492f-9bcc-23da1d1dc0da",
   "metadata": {},
   "outputs": [],
   "source": [
    "!chmod u+x ./run-sycl.sh &&./run-sycl.sh"
   ]
  },
  {
   "cell_type": "code",
   "execution_count": null,
   "id": "dd52f0f5-5c04-4ec7-95c9-a84455b6b4d2",
   "metadata": {},
   "outputs": [],
   "source": [
    "%%writefile ./run-sycl.sh\n",
    "#!/bin/bash -x\n",
    "source /opt/intel/oneapi/setvars.sh > /dev/null 2>&1\n",
    "#export ONEAPI_DEVICE_SELECTOR=opencl:cpu \n",
    "#export ONEAPI_DEVICE_SELECTOR=opencl:gpu\n",
    "#export ONEAPI_DEVICE_SELECTOR=level_zero:0\n",
    "./build/handleWF.x ./test/dimer_HCOOH.wfx -10.00 0.8"
   ]
  },
  {
   "cell_type": "code",
   "execution_count": null,
   "id": "367ac4ad-207f-4e3e-a752-60c06197b895",
   "metadata": {},
   "outputs": [],
   "source": [
    "!chmod u+x ./run-sycl.sh &&./run-sycl.sh"
   ]
  },
  {
   "cell_type": "code",
   "execution_count": null,
   "id": "7dc40cd0-3d92-4f24-928d-9c57a8a69d51",
   "metadata": {},
   "outputs": [],
   "source": []
  },
  {
   "cell_type": "markdown",
   "id": "a7e8cb19-62eb-4d93-8f21-3d8c0609721e",
   "metadata": {},
   "source": [
    "All rights reserved. Copyright Argonne National Laboratory UChicago LLC."
   ]
  },
  {
   "cell_type": "code",
   "execution_count": null,
   "id": "3273bf81-a71f-43f8-9074-714a349d05c7",
   "metadata": {},
   "outputs": [],
   "source": []
  }
 ],
 "metadata": {
  "kernelspec": {
   "display_name": "Python 3 (ipykernel)",
   "language": "python",
   "name": "python3"
  },
  "language_info": {
   "codemirror_mode": {
    "name": "ipython",
    "version": 3
   },
   "file_extension": ".py",
   "mimetype": "text/x-python",
   "name": "python",
   "nbconvert_exporter": "python",
   "pygments_lexer": "ipython3",
   "version": "3.9.19"
  }
 },
 "nbformat": 4,
 "nbformat_minor": 5
}
