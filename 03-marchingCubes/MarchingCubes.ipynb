{
 "cells": [
  {
   "cell_type": "markdown",
   "id": "85f8f4af-cb3c-4527-b742-198e8715e705",
   "metadata": {},
   "source": [
    "## Porting the Marching Cubes algorithm \n",
    "The following SYCL code below is a port of the implementation in the CUDA SDK.\n",
    "\n",
    "1. Inspect the following code cell and click __Run__ ▶ to save the code to a file.\n",
    "2. Next run -- the cell in the __Build and Run__ section below the code to compile and execute the code."
   ]
  },
  {
   "cell_type": "markdown",
   "id": "06e57c6c-f0c5-4864-8bfa-9dc25cc18e23",
   "metadata": {},
   "source": [
    "## Kernels"
   ]
  },
  {
   "cell_type": "markdown",
   "id": "52d36977-75f9-4864-bba4-29e2e422a956",
   "metadata": {},
   "source": [
    "### Classify Voxel"
   ]
  },
  {
   "cell_type": "code",
   "execution_count": null,
   "id": "9b12dafc-d685-4157-9379-73b49b56aa3c",
   "metadata": {},
   "outputs": [],
   "source": [
    "%%writefile src/kernelClassifyVoxel.cpp\n",
    "\n",
    "void classifyVoxel(uint *voxelVerts, \n",
    "                   uint *voxelOccupied, \n",
    "                   uchar *volume,\n",
    "                   sycl::uint3 gridSize, \n",
    "                   sycl::uint3 gridSizeShift,\n",
    "                   sycl::uint3 gridSizeMask, \n",
    "                   uint numVoxels,\n",
    "                   sycl::float3 voxelSize, \n",
    "                   float isoValue,\n",
    "                   sycl::accessor<uint, 1, sycl::access_mode::read> numVertsAcc,\n",
    "                   sycl::accessor<uchar, 1, sycl::access_mode::read> volumeAcc,\n",
    "                   sycl::id<3> idx) {\n",
    "\n",
    "  uint i = idx[2] * gridSize.x() * gridSize.y() + idx[1] * gridSize.x() + idx[0];\n",
    "\n",
    "  sycl::uint3 gridPos = calcGridPos(i, gridSizeShift, gridSizeMask);\n",
    "\n",
    "  float field[8];\n",
    "  field[0] = sampleVolume(volumeAcc, volume, gridPos, gridSize);\n",
    "  field[1] = sampleVolume(volumeAcc, volume, gridPos + sycl::uint3(1, 0, 0), gridSize);\n",
    "  field[2] = sampleVolume(volumeAcc, volume, gridPos + sycl::uint3(1, 1, 0), gridSize);\n",
    "  field[3] = sampleVolume(volumeAcc, volume, gridPos + sycl::uint3(0, 1, 0), gridSize);\n",
    "  field[4] = sampleVolume(volumeAcc, volume, gridPos + sycl::uint3(0, 0, 1), gridSize);\n",
    "  field[5] = sampleVolume(volumeAcc, volume, gridPos + sycl::uint3(1, 0, 1), gridSize);\n",
    "  field[6] = sampleVolume(volumeAcc, volume, gridPos + sycl::uint3(1, 1, 1), gridSize);\n",
    "  field[7] = sampleVolume(volumeAcc, volume, gridPos + sycl::uint3(0, 1, 1), gridSize);\n",
    "\n",
    "  uint cubeindex;\n",
    "  cubeindex = uint(field[0] < isoValue);\n",
    "  cubeindex += uint(field[1] < isoValue) * 2;\n",
    "  cubeindex += uint(field[2] < isoValue) * 4;\n",
    "  cubeindex += uint(field[3] < isoValue) * 8;\n",
    "  cubeindex += uint(field[4] < isoValue) * 16;\n",
    "  cubeindex += uint(field[5] < isoValue) * 32;\n",
    "  cubeindex += uint(field[6] < isoValue) * 64;\n",
    "  cubeindex += uint(field[7] < isoValue) * 128;\n",
    "\n",
    "  uint numVerts = numVertsAcc[cubeindex];\n",
    "\n",
    "  if (i < numVoxels) {\n",
    "    voxelVerts[i] = numVerts;\n",
    "    voxelOccupied[i] = (numVerts > 0);\n",
    "  }\n",
    "}"
   ]
  },
  {
   "cell_type": "markdown",
   "id": "387b365e-f4c0-4e77-aad6-1eaa0b4f2180",
   "metadata": {},
   "source": [
    "### Launch classifyVoxel"
   ]
  },
  {
   "cell_type": "code",
   "execution_count": null,
   "id": "cc85c6d2-9ee6-4513-a6d5-983f905bed9c",
   "metadata": {},
   "outputs": [],
   "source": [
    "%%writefile src/kernelLaunchClassifyVoxel.cpp\n",
    "\n",
    "extern \"C\" \n",
    "void launch_classifyVoxel(sycl::queue &q, \n",
    "                          sycl::range<3> globalRange,\n",
    "                          uint *voxelVerts, \n",
    "                          uint *voxelOccupied, \n",
    "                          uchar *volume,\n",
    "                          sycl::uint3 gridSize, \n",
    "                          sycl::uint3 gridSizeShift,\n",
    "                          sycl::uint3 gridSizeMask, \n",
    "                          uint numVoxels,\n",
    "                          sycl::float3 voxelSize, \n",
    "                          float isoValue) \n",
    "{\n",
    "  q.submit([&](sycl::handler &h) \n",
    "  {\n",
    "    auto out = sycl::stream(1024, 768, h); \n",
    "    auto numVertsAcc = numVertsTableBuf -> get_access<sycl::access_mode::read>(h);\n",
    "    auto volumeAcc = volumeBuf -> get_access<sycl::access_mode::read>(h);\n",
    "        \n",
    "    h.parallel_for(globalRange, [=](sycl::id<3> idx) \n",
    "    {\n",
    "      classifyVoxel(voxelVerts, voxelOccupied, volume, gridSize,\n",
    "                    gridSizeShift, gridSizeMask, numVoxels, voxelSize,\n",
    "                    isoValue, numVertsAcc, volumeAcc, idx);\n",
    "    }); \n",
    "  }).wait();\n",
    "}"
   ]
  },
  {
   "cell_type": "markdown",
   "id": "33f3aa83-b113-4fe4-a98c-1d139b673b44",
   "metadata": {},
   "source": [
    "### Compact voxels"
   ]
  },
  {
   "cell_type": "code",
   "execution_count": null,
   "id": "68a6ec94-f702-49a3-bc86-b0284e2e97e2",
   "metadata": {},
   "outputs": [],
   "source": [
    "%%writefile src/kernelCompactVoxels.cpp\n",
    "\n",
    "void compactVoxels(uint *compactedVoxelArray, \n",
    "                   uint *voxelOccupied,\n",
    "                   uint *voxelOccupiedScan, \n",
    "                   uint numVoxels, \n",
    "                   sycl::id<3> idx) \n",
    "{\n",
    "  uint i = idx[2] * numVoxels * numVoxels + idx[1] * numVoxels + idx[0];\n",
    "  if (i >= numVoxels) return;\n",
    "  \n",
    "  if (voxelOccupied[i]) {\n",
    "    compactedVoxelArray[voxelOccupiedScan[i]] = i;\n",
    "  }\n",
    "}"
   ]
  },
  {
   "cell_type": "markdown",
   "id": "6debcd19-6b06-4b98-98f3-52dfe0da531f",
   "metadata": {},
   "source": [
    "### Launch compact voxels"
   ]
  },
  {
   "cell_type": "code",
   "execution_count": null,
   "id": "22ca2486-c18d-43aa-8d32-c1b1cd0a3ea3",
   "metadata": {},
   "outputs": [],
   "source": [
    "%%writefile src/kernelLaunchCompactVoxels.cpp\n",
    "\n",
    "extern \"C\" \n",
    "void launch_compactVoxels(sycl::queue &q, \n",
    "                          sycl::range<3> globalRange,\n",
    "                          uint *compactedVoxelArray, \n",
    "                          uint *voxelOccupied,\n",
    "                          uint *voxelOccupiedScan, \n",
    "                          uint numVoxels) \n",
    "{\n",
    "  q.parallel_for(globalRange, [=](sycl::id<3> idx) \n",
    "  {\n",
    "    compactVoxels(compactedVoxelArray, voxelOccupied, voxelOccupiedScan, numVoxels, idx);\n",
    "  }).wait();\n",
    "}"
   ]
  },
  {
   "cell_type": "markdown",
   "id": "c9cc937b-37cb-4786-af91-4dce07e33671",
   "metadata": {},
   "source": [
    "### generateTriangles kernel"
   ]
  },
  {
   "cell_type": "code",
   "execution_count": null,
   "id": "8ccb2c9f-0410-4e05-ac99-52b653c0ad60",
   "metadata": {},
   "outputs": [],
   "source": [
    "%%writefile src/kernelGenerateTriangles.cpp\n",
    "\n",
    "void generateTriangles(sycl::float4 *pos, \n",
    "                       sycl::float4 *norm, \n",
    "                       uint *compactedVoxelArray,\n",
    "                       uint *numVertsScanned, \n",
    "                       sycl::uint3 gridSize,\n",
    "                       sycl::uint3 gridSizeShift, \n",
    "                       sycl::uint3 gridSizeMask,\n",
    "                       sycl::float3 voxelSize, \n",
    "                       float isoValue,\n",
    "                       uint activeVoxels, \n",
    "                       uint maxVerts,\n",
    "                       sycl::accessor<uint, 1, sycl::access_mode::read> triTableAcc,\n",
    "                       sycl::accessor<uint, 1, sycl::access_mode::read> numVertsAcc,\n",
    "                       sycl::id<3> idx) \n",
    "{\n",
    "  uint i = idx[2] * gridSize.x() * gridSize.y() + idx[1] * gridSize.x() + idx[0];\n",
    "\n",
    "  if (i >= activeVoxels) return;\n",
    "\n",
    "  uint voxel = compactedVoxelArray[i];\n",
    "\n",
    "  sycl::uint3 gridPos = calcGridPos(voxel, gridSizeShift, gridSizeMask);\n",
    "\n",
    "  sycl::float3 p;\n",
    "  p.x() = -1.0f + (gridPos.x() * voxelSize.x());\n",
    "  p.y() = -1.0f + (gridPos.y() * voxelSize.y());\n",
    "  p.z() = -1.0f + (gridPos.z() * voxelSize.z());\n",
    "\n",
    "  sycl::float3 v[8];\n",
    "  v[0] = p;\n",
    "  v[1] = p + sycl::float3(voxelSize.x(), 0, 0);\n",
    "  v[2] = p + sycl::float3(voxelSize.x(), voxelSize.y(), 0);\n",
    "  v[3] = p + sycl::float3(0, voxelSize.y(), 0);\n",
    "  v[4] = p + sycl::float3(0, 0, voxelSize.z());\n",
    "  v[5] = p + sycl::float3(voxelSize.x(), 0, voxelSize.z());\n",
    "  v[6] = p + sycl::float3(voxelSize.x(), voxelSize.y(), voxelSize.z());\n",
    "  v[7] = p + sycl::float3(0, voxelSize.y(), voxelSize.z());\n",
    "\n",
    "  sycl::float4 field[8];\n",
    "  field[0] = fieldFunc4(v[0]);\n",
    "  field[1] = fieldFunc4(v[1]);\n",
    "  field[2] = fieldFunc4(v[2]);\n",
    "  field[3] = fieldFunc4(v[3]);\n",
    "  field[4] = fieldFunc4(v[4]);\n",
    "  field[5] = fieldFunc4(v[5]);\n",
    "  field[6] = fieldFunc4(v[6]);\n",
    "  field[7] = fieldFunc4(v[7]);\n",
    "\n",
    "  uint cubeindex;\n",
    "  cubeindex = uint(field[0].w() < isoValue);\n",
    "  cubeindex += uint(field[1].w() < isoValue) * 2;\n",
    "  cubeindex += uint(field[2].w() < isoValue) * 4;\n",
    "  cubeindex += uint(field[3].w() < isoValue) * 8;\n",
    "  cubeindex += uint(field[4].w() < isoValue) * 16;\n",
    "  cubeindex += uint(field[5].w() < isoValue) * 32;\n",
    "  cubeindex += uint(field[6].w() < isoValue) * 64;\n",
    "  cubeindex += uint(field[7].w() < isoValue) * 128;\n",
    "\n",
    "  sycl::float3 vertlist[12];\n",
    "  sycl::float3 normlist[12];\n",
    "\n",
    "  vertexInterp2(isoValue, v[0], v[1], field[0], field[1], vertlist[0], normlist[0]);\n",
    "  vertexInterp2(isoValue, v[1], v[2], field[1], field[2], vertlist[1], normlist[1]);\n",
    "  vertexInterp2(isoValue, v[2], v[3], field[2], field[3], vertlist[2], normlist[2]);\n",
    "  vertexInterp2(isoValue, v[3], v[0], field[3], field[0], vertlist[3], normlist[3]);\n",
    "  vertexInterp2(isoValue, v[4], v[5], field[4], field[5], vertlist[4], normlist[4]);\n",
    "  vertexInterp2(isoValue, v[5], v[6], field[5], field[6], vertlist[5], normlist[5]);\n",
    "  vertexInterp2(isoValue, v[6], v[7], field[6], field[7], vertlist[6], normlist[6]);\n",
    "  vertexInterp2(isoValue, v[7], v[4], field[7], field[4], vertlist[7], normlist[7]);\n",
    "  vertexInterp2(isoValue, v[0], v[4], field[0], field[4], vertlist[8], normlist[8]);\n",
    "  vertexInterp2(isoValue, v[1], v[5], field[1], field[5], vertlist[9], normlist[9]);\n",
    "  vertexInterp2(isoValue, v[2], v[6], field[2], field[6], vertlist[10], normlist[10]);\n",
    "  vertexInterp2(isoValue, v[3], v[7], field[3], field[7], vertlist[11], normlist[11]);\n",
    "\n",
    "  uint numVerts = numVertsAcc[cubeindex];\n",
    "\n",
    "  for (int i = 0; i < numVerts; i++) {\n",
    "    uint edge = triTableAcc[cubeindex * 16 + i];\n",
    "\n",
    "    uint index = numVertsScanned[voxel] + i;\n",
    "\n",
    "    if (index < maxVerts) {\n",
    "      pos[index] = sycl::float4{vertlist[edge].x(), vertlist[edge].y(), vertlist[edge].z(), 1.0f};\n",
    "      norm[index] = sycl::float4{normlist[edge].x(), normlist[edge].y(), normlist[edge].z(), 0.0f};\n",
    "    }\n",
    "  }\n",
    "}\n"
   ]
  },
  {
   "cell_type": "markdown",
   "id": "2d771b6f-adc2-4b88-a9be-4024caa0438d",
   "metadata": {},
   "source": [
    "### Launch generateTriangles kernel"
   ]
  },
  {
   "cell_type": "code",
   "execution_count": null,
   "id": "5efe88d7-4eca-49cd-b196-b0e03edf9ac1",
   "metadata": {},
   "outputs": [],
   "source": [
    "%%writefile src/kernelLaunchGenerateTriangles.cpp\n",
    "\n",
    "extern \"C\" \n",
    "void launch_generateTriangles(sycl::queue &q, sycl::range<3> globalRange,\n",
    "                              sycl::float4 *pos, \n",
    "                              sycl::float4 *norm,\n",
    "                              uint *compactedVoxelArray, \n",
    "                              uint *numVertsScanned,\n",
    "                              sycl::uint3 gridSize, \n",
    "                              sycl::uint3 gridSizeShift,\n",
    "                              sycl::uint3 gridSizeMask, \n",
    "                              sycl::float3 voxelSize,\n",
    "                              float isoValue, \n",
    "                              uint activeVoxels, \n",
    "                              uint maxVerts) \n",
    "{\n",
    "  q.submit([&](sycl::handler &h) \n",
    "  {\n",
    "    auto triTableAcc = triTableBuf->get_access<sycl::access_mode::read>(h);\n",
    "    auto numVertsAcc = numVertsTableBuf->get_access<sycl::access_mode::read>(h);\n",
    "\n",
    "    h.parallel_for(globalRange, [=](sycl::id<3> idx) \n",
    "    {\n",
    "      generateTriangles(pos, norm, compactedVoxelArray, numVertsScanned,\n",
    "                            gridSize, gridSizeShift, gridSizeMask, voxelSize,\n",
    "                            isoValue, activeVoxels, maxVerts, triTableAcc,\n",
    "                            numVertsAcc, idx);\n",
    "    });\n",
    "  }).wait();\n",
    "}"
   ]
  },
  {
   "cell_type": "markdown",
   "id": "b33a4050-87d3-4c29-8071-6e1e01e734df",
   "metadata": {
    "tags": []
   },
   "source": [
    "#### Build and Run\n",
    "Select the cell below and click __Run__ ▶ to compile the code:"
   ]
  },
  {
   "cell_type": "code",
   "execution_count": null,
   "id": "8dcba00f-9903-4e03-8640-6bdf881e2985",
   "metadata": {},
   "outputs": [],
   "source": [
    "! cd src ; icpx -fsycl marchingCubes.cpp marchingCubesKernels.cpp -o ../build/mc"
   ]
  },
  {
   "cell_type": "markdown",
   "id": "2ff56220-1424-4b38-84c4-e3d20d7daf6a",
   "metadata": {
    "tags": []
   },
   "source": [
    "\n",
    "Select the cell below and click __Run__ ▶ to execute the code on selected device:"
   ]
  },
  {
   "cell_type": "code",
   "execution_count": null,
   "id": "f0b60b96-a979-4171-9466-20fd505d521f",
   "metadata": {},
   "outputs": [],
   "source": [
    "! pwd"
   ]
  },
  {
   "cell_type": "code",
   "execution_count": null,
   "id": "839004b6-6476-432e-b89a-15320ab84ac1",
   "metadata": {
    "tags": []
   },
   "outputs": [],
   "source": [
    "! ./build/mc"
   ]
  }
 ],
 "metadata": {
  "kernelspec": {
   "display_name": "Python 3 (ipykernel)",
   "language": "python",
   "name": "python3"
  },
  "language_info": {
   "codemirror_mode": {
    "name": "ipython",
    "version": 3
   },
   "file_extension": ".py",
   "mimetype": "text/x-python",
   "name": "python",
   "nbconvert_exporter": "python",
   "pygments_lexer": "ipython3",
   "version": "3.11.5"
  }
 },
 "nbformat": 4,
 "nbformat_minor": 5
}
